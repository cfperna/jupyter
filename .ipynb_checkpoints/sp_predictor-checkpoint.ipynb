{
 "cells": [
  {
   "cell_type": "code",
   "execution_count": 1,
   "id": "5855aa22-a32f-4e3f-bd5c-08759760acd7",
   "metadata": {
    "tags": []
   },
   "outputs": [],
   "source": [
    "import yfinance as yf\n",
    "import pandas as pd"
   ]
  },
  {
   "cell_type": "code",
   "execution_count": 2,
   "id": "94fd3287-ae34-493b-b5d4-4bfdbc80b90a",
   "metadata": {
    "tags": []
   },
   "outputs": [],
   "source": [
    "pd.options.display.float_format = '{:.2f}'.format\n",
    "sp500 = yf.Ticker(\"^GSPC\")\n",
    "sp500 = sp500.history(period=\"max\")\n",
    "# sp500.to_csv(\"sp500.csv\")"
   ]
  },
  {
   "cell_type": "code",
   "execution_count": 3,
   "id": "207fc127-6b38-4da9-9e7f-3862c3f59b6a",
   "metadata": {
    "tags": []
   },
   "outputs": [
    {
     "data": {
      "text/html": [
       "<div>\n",
       "<style scoped>\n",
       "    .dataframe tbody tr th:only-of-type {\n",
       "        vertical-align: middle;\n",
       "    }\n",
       "\n",
       "    .dataframe tbody tr th {\n",
       "        vertical-align: top;\n",
       "    }\n",
       "\n",
       "    .dataframe thead th {\n",
       "        text-align: right;\n",
       "    }\n",
       "</style>\n",
       "<table border=\"1\" class=\"dataframe\">\n",
       "  <thead>\n",
       "    <tr style=\"text-align: right;\">\n",
       "      <th></th>\n",
       "      <th>Open</th>\n",
       "      <th>High</th>\n",
       "      <th>Low</th>\n",
       "      <th>Close</th>\n",
       "      <th>Volume</th>\n",
       "      <th>Dividends</th>\n",
       "      <th>Stock Splits</th>\n",
       "    </tr>\n",
       "    <tr>\n",
       "      <th>Date</th>\n",
       "      <th></th>\n",
       "      <th></th>\n",
       "      <th></th>\n",
       "      <th></th>\n",
       "      <th></th>\n",
       "      <th></th>\n",
       "      <th></th>\n",
       "    </tr>\n",
       "  </thead>\n",
       "  <tbody>\n",
       "    <tr>\n",
       "      <th>1927-12-30 00:00:00-05:00</th>\n",
       "      <td>17.66</td>\n",
       "      <td>17.66</td>\n",
       "      <td>17.66</td>\n",
       "      <td>17.66</td>\n",
       "      <td>0</td>\n",
       "      <td>0.00</td>\n",
       "      <td>0.00</td>\n",
       "    </tr>\n",
       "    <tr>\n",
       "      <th>1928-01-03 00:00:00-05:00</th>\n",
       "      <td>17.76</td>\n",
       "      <td>17.76</td>\n",
       "      <td>17.76</td>\n",
       "      <td>17.76</td>\n",
       "      <td>0</td>\n",
       "      <td>0.00</td>\n",
       "      <td>0.00</td>\n",
       "    </tr>\n",
       "    <tr>\n",
       "      <th>1928-01-04 00:00:00-05:00</th>\n",
       "      <td>17.72</td>\n",
       "      <td>17.72</td>\n",
       "      <td>17.72</td>\n",
       "      <td>17.72</td>\n",
       "      <td>0</td>\n",
       "      <td>0.00</td>\n",
       "      <td>0.00</td>\n",
       "    </tr>\n",
       "    <tr>\n",
       "      <th>1928-01-05 00:00:00-05:00</th>\n",
       "      <td>17.55</td>\n",
       "      <td>17.55</td>\n",
       "      <td>17.55</td>\n",
       "      <td>17.55</td>\n",
       "      <td>0</td>\n",
       "      <td>0.00</td>\n",
       "      <td>0.00</td>\n",
       "    </tr>\n",
       "    <tr>\n",
       "      <th>1928-01-06 00:00:00-05:00</th>\n",
       "      <td>17.66</td>\n",
       "      <td>17.66</td>\n",
       "      <td>17.66</td>\n",
       "      <td>17.66</td>\n",
       "      <td>0</td>\n",
       "      <td>0.00</td>\n",
       "      <td>0.00</td>\n",
       "    </tr>\n",
       "    <tr>\n",
       "      <th>...</th>\n",
       "      <td>...</td>\n",
       "      <td>...</td>\n",
       "      <td>...</td>\n",
       "      <td>...</td>\n",
       "      <td>...</td>\n",
       "      <td>...</td>\n",
       "      <td>...</td>\n",
       "    </tr>\n",
       "    <tr>\n",
       "      <th>2024-02-29 00:00:00-05:00</th>\n",
       "      <td>5085.36</td>\n",
       "      <td>5104.99</td>\n",
       "      <td>5061.89</td>\n",
       "      <td>5096.27</td>\n",
       "      <td>5219740000</td>\n",
       "      <td>0.00</td>\n",
       "      <td>0.00</td>\n",
       "    </tr>\n",
       "    <tr>\n",
       "      <th>2024-03-01 00:00:00-05:00</th>\n",
       "      <td>5098.51</td>\n",
       "      <td>5140.33</td>\n",
       "      <td>5094.16</td>\n",
       "      <td>5137.08</td>\n",
       "      <td>4748110000</td>\n",
       "      <td>0.00</td>\n",
       "      <td>0.00</td>\n",
       "    </tr>\n",
       "    <tr>\n",
       "      <th>2024-03-04 00:00:00-05:00</th>\n",
       "      <td>5130.99</td>\n",
       "      <td>5149.67</td>\n",
       "      <td>5127.18</td>\n",
       "      <td>5130.95</td>\n",
       "      <td>4758440000</td>\n",
       "      <td>0.00</td>\n",
       "      <td>0.00</td>\n",
       "    </tr>\n",
       "    <tr>\n",
       "      <th>2024-03-05 00:00:00-05:00</th>\n",
       "      <td>5110.52</td>\n",
       "      <td>5114.54</td>\n",
       "      <td>5056.82</td>\n",
       "      <td>5078.65</td>\n",
       "      <td>4418410000</td>\n",
       "      <td>0.00</td>\n",
       "      <td>0.00</td>\n",
       "    </tr>\n",
       "    <tr>\n",
       "      <th>2024-03-06 00:00:00-05:00</th>\n",
       "      <td>5108.03</td>\n",
       "      <td>5127.97</td>\n",
       "      <td>5092.22</td>\n",
       "      <td>5104.76</td>\n",
       "      <td>4559050000</td>\n",
       "      <td>0.00</td>\n",
       "      <td>0.00</td>\n",
       "    </tr>\n",
       "  </tbody>\n",
       "</table>\n",
       "<p>24160 rows × 7 columns</p>\n",
       "</div>"
      ],
      "text/plain": [
       "                             Open    High     Low   Close      Volume  \\\n",
       "Date                                                                    \n",
       "1927-12-30 00:00:00-05:00   17.66   17.66   17.66   17.66           0   \n",
       "1928-01-03 00:00:00-05:00   17.76   17.76   17.76   17.76           0   \n",
       "1928-01-04 00:00:00-05:00   17.72   17.72   17.72   17.72           0   \n",
       "1928-01-05 00:00:00-05:00   17.55   17.55   17.55   17.55           0   \n",
       "1928-01-06 00:00:00-05:00   17.66   17.66   17.66   17.66           0   \n",
       "...                           ...     ...     ...     ...         ...   \n",
       "2024-02-29 00:00:00-05:00 5085.36 5104.99 5061.89 5096.27  5219740000   \n",
       "2024-03-01 00:00:00-05:00 5098.51 5140.33 5094.16 5137.08  4748110000   \n",
       "2024-03-04 00:00:00-05:00 5130.99 5149.67 5127.18 5130.95  4758440000   \n",
       "2024-03-05 00:00:00-05:00 5110.52 5114.54 5056.82 5078.65  4418410000   \n",
       "2024-03-06 00:00:00-05:00 5108.03 5127.97 5092.22 5104.76  4559050000   \n",
       "\n",
       "                           Dividends  Stock Splits  \n",
       "Date                                                \n",
       "1927-12-30 00:00:00-05:00       0.00          0.00  \n",
       "1928-01-03 00:00:00-05:00       0.00          0.00  \n",
       "1928-01-04 00:00:00-05:00       0.00          0.00  \n",
       "1928-01-05 00:00:00-05:00       0.00          0.00  \n",
       "1928-01-06 00:00:00-05:00       0.00          0.00  \n",
       "...                              ...           ...  \n",
       "2024-02-29 00:00:00-05:00       0.00          0.00  \n",
       "2024-03-01 00:00:00-05:00       0.00          0.00  \n",
       "2024-03-04 00:00:00-05:00       0.00          0.00  \n",
       "2024-03-05 00:00:00-05:00       0.00          0.00  \n",
       "2024-03-06 00:00:00-05:00       0.00          0.00  \n",
       "\n",
       "[24160 rows x 7 columns]"
      ]
     },
     "execution_count": 3,
     "metadata": {},
     "output_type": "execute_result"
    }
   ],
   "source": [
    "sp500"
   ]
  },
  {
   "cell_type": "code",
   "execution_count": 4,
   "id": "1a4a054b-744c-42c2-9459-2151beb8f713",
   "metadata": {
    "tags": []
   },
   "outputs": [
    {
     "data": {
      "text/plain": [
       "DatetimeIndex(['1927-12-30 00:00:00-05:00', '1928-01-03 00:00:00-05:00',\n",
       "               '1928-01-04 00:00:00-05:00', '1928-01-05 00:00:00-05:00',\n",
       "               '1928-01-06 00:00:00-05:00', '1928-01-09 00:00:00-05:00',\n",
       "               '1928-01-10 00:00:00-05:00', '1928-01-11 00:00:00-05:00',\n",
       "               '1928-01-12 00:00:00-05:00', '1928-01-13 00:00:00-05:00',\n",
       "               ...\n",
       "               '2024-02-22 00:00:00-05:00', '2024-02-23 00:00:00-05:00',\n",
       "               '2024-02-26 00:00:00-05:00', '2024-02-27 00:00:00-05:00',\n",
       "               '2024-02-28 00:00:00-05:00', '2024-02-29 00:00:00-05:00',\n",
       "               '2024-03-01 00:00:00-05:00', '2024-03-04 00:00:00-05:00',\n",
       "               '2024-03-05 00:00:00-05:00', '2024-03-06 00:00:00-05:00'],\n",
       "              dtype='datetime64[ns, America/New_York]', name='Date', length=24160, freq=None)"
      ]
     },
     "execution_count": 4,
     "metadata": {},
     "output_type": "execute_result"
    }
   ],
   "source": [
    "sp500.index"
   ]
  },
  {
   "cell_type": "code",
   "execution_count": null,
   "id": "b88756a1-4358-4d97-912f-bf9a463ef961",
   "metadata": {},
   "outputs": [],
   "source": []
  },
  {
   "cell_type": "code",
   "execution_count": 5,
   "id": "8a5ed1b0-192e-426c-b158-b5a9fdabce14",
   "metadata": {
    "tags": []
   },
   "outputs": [
    {
     "data": {
      "text/plain": [
       "<Axes: xlabel='Date'>"
      ]
     },
     "execution_count": 5,
     "metadata": {},
     "output_type": "execute_result"
    },
    {
     "data": {
      "image/png": "[encoded data removed]",
      "text/plain": [
       "<Figure size 640x480 with 1 Axes>"
      ]
     },
     "metadata": {},
     "output_type": "display_data"
    }
   ],
   "source": [
    "sp500.plot.line(y=\"Close\", use_index = True)"
   ]
  },
  {
   "cell_type": "code",
   "execution_count": 6,
   "id": "f6715d25-681d-4e91-b574-0e1a32bfc2c4",
   "metadata": {
    "tags": []
   },
   "outputs": [],
   "source": [
    "del sp500[\"Dividends\"]\n",
    "del sp500[\"Stock Splits\"]"
   ]
  },
  {
   "cell_type": "code",
   "execution_count": 7,
   "id": "095b6896-c0b5-4e8d-ba35-19b3f95622a7",
   "metadata": {
    "tags": []
   },
   "outputs": [],
   "source": [
    "sp500[\"Tomarrow\"] = sp500[\"Close\"].shift(-1)\n",
    "sp500[\"EMA\"] = sp500[\"Volume\"].ewm(span=5, adjust=False).mean().astype(int)"
   ]
  },
  {
   "cell_type": "code",
   "execution_count": 8,
   "id": "37e95638-112f-4f2a-9995-f65b2517a3a7",
   "metadata": {
    "tags": []
   },
   "outputs": [
    {
     "data": {
      "text/html": [
       "<div>\n",
       "<style scoped>\n",
       "    .dataframe tbody tr th:only-of-type {\n",
       "        vertical-align: middle;\n",
       "    }\n",
       "\n",
       "    .dataframe tbody tr th {\n",
       "        vertical-align: top;\n",
       "    }\n",
       "\n",
       "    .dataframe thead th {\n",
       "        text-align: right;\n",
       "    }\n",
       "</style>\n",
       "<table border=\"1\" class=\"dataframe\">\n",
       "  <thead>\n",
       "    <tr style=\"text-align: right;\">\n",
       "      <th></th>\n",
       "      <th>Open</th>\n",
       "      <th>High</th>\n",
       "      <th>Low</th>\n",
       "      <th>Close</th>\n",
       "      <th>Volume</th>\n",
       "      <th>Tomarrow</th>\n",
       "      <th>EMA</th>\n",
       "    </tr>\n",
       "    <tr>\n",
       "      <th>Date</th>\n",
       "      <th></th>\n",
       "      <th></th>\n",
       "      <th></th>\n",
       "      <th></th>\n",
       "      <th></th>\n",
       "      <th></th>\n",
       "      <th></th>\n",
       "    </tr>\n",
       "  </thead>\n",
       "  <tbody>\n",
       "    <tr>\n",
       "      <th>1927-12-30 00:00:00-05:00</th>\n",
       "      <td>17.66</td>\n",
       "      <td>17.66</td>\n",
       "      <td>17.66</td>\n",
       "      <td>17.66</td>\n",
       "      <td>0</td>\n",
       "      <td>17.76</td>\n",
       "      <td>0</td>\n",
       "    </tr>\n",
       "    <tr>\n",
       "      <th>1928-01-03 00:00:00-05:00</th>\n",
       "      <td>17.76</td>\n",
       "      <td>17.76</td>\n",
       "      <td>17.76</td>\n",
       "      <td>17.76</td>\n",
       "      <td>0</td>\n",
       "      <td>17.72</td>\n",
       "      <td>0</td>\n",
       "    </tr>\n",
       "    <tr>\n",
       "      <th>1928-01-04 00:00:00-05:00</th>\n",
       "      <td>17.72</td>\n",
       "      <td>17.72</td>\n",
       "      <td>17.72</td>\n",
       "      <td>17.72</td>\n",
       "      <td>0</td>\n",
       "      <td>17.55</td>\n",
       "      <td>0</td>\n",
       "    </tr>\n",
       "    <tr>\n",
       "      <th>1928-01-05 00:00:00-05:00</th>\n",
       "      <td>17.55</td>\n",
       "      <td>17.55</td>\n",
       "      <td>17.55</td>\n",
       "      <td>17.55</td>\n",
       "      <td>0</td>\n",
       "      <td>17.66</td>\n",
       "      <td>0</td>\n",
       "    </tr>\n",
       "    <tr>\n",
       "      <th>1928-01-06 00:00:00-05:00</th>\n",
       "      <td>17.66</td>\n",
       "      <td>17.66</td>\n",
       "      <td>17.66</td>\n",
       "      <td>17.66</td>\n",
       "      <td>0</td>\n",
       "      <td>17.50</td>\n",
       "      <td>0</td>\n",
       "    </tr>\n",
       "    <tr>\n",
       "      <th>...</th>\n",
       "      <td>...</td>\n",
       "      <td>...</td>\n",
       "      <td>...</td>\n",
       "      <td>...</td>\n",
       "      <td>...</td>\n",
       "      <td>...</td>\n",
       "      <td>...</td>\n",
       "    </tr>\n",
       "    <tr>\n",
       "      <th>2024-02-29 00:00:00-05:00</th>\n",
       "      <td>5085.36</td>\n",
       "      <td>5104.99</td>\n",
       "      <td>5061.89</td>\n",
       "      <td>5096.27</td>\n",
       "      <td>5219740000</td>\n",
       "      <td>5137.08</td>\n",
       "      <td>4292831721</td>\n",
       "    </tr>\n",
       "    <tr>\n",
       "      <th>2024-03-01 00:00:00-05:00</th>\n",
       "      <td>5098.51</td>\n",
       "      <td>5140.33</td>\n",
       "      <td>5094.16</td>\n",
       "      <td>5137.08</td>\n",
       "      <td>4748110000</td>\n",
       "      <td>5130.95</td>\n",
       "      <td>4444591147</td>\n",
       "    </tr>\n",
       "    <tr>\n",
       "      <th>2024-03-04 00:00:00-05:00</th>\n",
       "      <td>5130.99</td>\n",
       "      <td>5149.67</td>\n",
       "      <td>5127.18</td>\n",
       "      <td>5130.95</td>\n",
       "      <td>4758440000</td>\n",
       "      <td>5078.65</td>\n",
       "      <td>4549207431</td>\n",
       "    </tr>\n",
       "    <tr>\n",
       "      <th>2024-03-05 00:00:00-05:00</th>\n",
       "      <td>5110.52</td>\n",
       "      <td>5114.54</td>\n",
       "      <td>5056.82</td>\n",
       "      <td>5078.65</td>\n",
       "      <td>4418410000</td>\n",
       "      <td>5104.76</td>\n",
       "      <td>4505608287</td>\n",
       "    </tr>\n",
       "    <tr>\n",
       "      <th>2024-03-06 00:00:00-05:00</th>\n",
       "      <td>5108.03</td>\n",
       "      <td>5127.97</td>\n",
       "      <td>5092.22</td>\n",
       "      <td>5104.76</td>\n",
       "      <td>4559050000</td>\n",
       "      <td>NaN</td>\n",
       "      <td>4523422191</td>\n",
       "    </tr>\n",
       "  </tbody>\n",
       "</table>\n",
       "<p>24160 rows × 7 columns</p>\n",
       "</div>"
      ],
      "text/plain": [
       "                             Open    High     Low   Close      Volume  \\\n",
       "Date                                                                    \n",
       "1927-12-30 00:00:00-05:00   17.66   17.66   17.66   17.66           0   \n",
       "1928-01-03 00:00:00-05:00   17.76   17.76   17.76   17.76           0   \n",
       "1928-01-04 00:00:00-05:00   17.72   17.72   17.72   17.72           0   \n",
       "1928-01-05 00:00:00-05:00   17.55   17.55   17.55   17.55           0   \n",
       "1928-01-06 00:00:00-05:00   17.66   17.66   17.66   17.66           0   \n",
       "...                           ...     ...     ...     ...         ...   \n",
       "2024-02-29 00:00:00-05:00 5085.36 5104.99 5061.89 5096.27  5219740000   \n",
       "2024-03-01 00:00:00-05:00 5098.51 5140.33 5094.16 5137.08  4748110000   \n",
       "2024-03-04 00:00:00-05:00 5130.99 5149.67 5127.18 5130.95  4758440000   \n",
       "2024-03-05 00:00:00-05:00 5110.52 5114.54 5056.82 5078.65  4418410000   \n",
       "2024-03-06 00:00:00-05:00 5108.03 5127.97 5092.22 5104.76  4559050000   \n",
       "\n",
       "                           Tomarrow         EMA  \n",
       "Date                                             \n",
       "1927-12-30 00:00:00-05:00     17.76           0  \n",
       "1928-01-03 00:00:00-05:00     17.72           0  \n",
       "1928-01-04 00:00:00-05:00     17.55           0  \n",
       "1928-01-05 00:00:00-05:00     17.66           0  \n",
       "1928-01-06 00:00:00-05:00     17.50           0  \n",
       "...                             ...         ...  \n",
       "2024-02-29 00:00:00-05:00   5137.08  4292831721  \n",
       "2024-03-01 00:00:00-05:00   5130.95  4444591147  \n",
       "2024-03-04 00:00:00-05:00   5078.65  4549207431  \n",
       "2024-03-05 00:00:00-05:00   5104.76  4505608287  \n",
       "2024-03-06 00:00:00-05:00       NaN  4523422191  \n",
       "\n",
       "[24160 rows x 7 columns]"
      ]
     },
     "execution_count": 8,
     "metadata": {},
     "output_type": "execute_result"
    }
   ],
   "source": [
    "sp500"
   ]
  },
  {
   "cell_type": "code",
   "execution_count": 9,
   "id": "0d449891-61fd-4a46-8585-7a5d402b9adc",
   "metadata": {
    "tags": []
   },
   "outputs": [],
   "source": [
    "sp500[\"Target\"] = (sp500[\"Close\"]<sp500[\"Tomarrow\"]).astype(int)"
   ]
  },
  {
   "cell_type": "code",
   "execution_count": 10,
   "id": "129bb5de-017f-42be-8a7e-009ca2edfdb4",
   "metadata": {
    "tags": []
   },
   "outputs": [
    {
     "data": {
      "text/html": [
       "<div>\n",
       "<style scoped>\n",
       "    .dataframe tbody tr th:only-of-type {\n",
       "        vertical-align: middle;\n",
       "    }\n",
       "\n",
       "    .dataframe tbody tr th {\n",
       "        vertical-align: top;\n",
       "    }\n",
       "\n",
       "    .dataframe thead th {\n",
       "        text-align: right;\n",
       "    }\n",
       "</style>\n",
       "<table border=\"1\" class=\"dataframe\">\n",
       "  <thead>\n",
       "    <tr style=\"text-align: right;\">\n",
       "      <th></th>\n",
       "      <th>Open</th>\n",
       "      <th>High</th>\n",
       "      <th>Low</th>\n",
       "      <th>Close</th>\n",
       "      <th>Volume</th>\n",
       "      <th>Tomarrow</th>\n",
       "      <th>EMA</th>\n",
       "      <th>Target</th>\n",
       "    </tr>\n",
       "    <tr>\n",
       "      <th>Date</th>\n",
       "      <th></th>\n",
       "      <th></th>\n",
       "      <th></th>\n",
       "      <th></th>\n",
       "      <th></th>\n",
       "      <th></th>\n",
       "      <th></th>\n",
       "      <th></th>\n",
       "    </tr>\n",
       "  </thead>\n",
       "  <tbody>\n",
       "    <tr>\n",
       "      <th>1927-12-30 00:00:00-05:00</th>\n",
       "      <td>17.66</td>\n",
       "      <td>17.66</td>\n",
       "      <td>17.66</td>\n",
       "      <td>17.66</td>\n",
       "      <td>0</td>\n",
       "      <td>17.76</td>\n",
       "      <td>0</td>\n",
       "      <td>1</td>\n",
       "    </tr>\n",
       "    <tr>\n",
       "      <th>1928-01-03 00:00:00-05:00</th>\n",
       "      <td>17.76</td>\n",
       "      <td>17.76</td>\n",
       "      <td>17.76</td>\n",
       "      <td>17.76</td>\n",
       "      <td>0</td>\n",
       "      <td>17.72</td>\n",
       "      <td>0</td>\n",
       "      <td>0</td>\n",
       "    </tr>\n",
       "    <tr>\n",
       "      <th>1928-01-04 00:00:00-05:00</th>\n",
       "      <td>17.72</td>\n",
       "      <td>17.72</td>\n",
       "      <td>17.72</td>\n",
       "      <td>17.72</td>\n",
       "      <td>0</td>\n",
       "      <td>17.55</td>\n",
       "      <td>0</td>\n",
       "      <td>0</td>\n",
       "    </tr>\n",
       "    <tr>\n",
       "      <th>1928-01-05 00:00:00-05:00</th>\n",
       "      <td>17.55</td>\n",
       "      <td>17.55</td>\n",
       "      <td>17.55</td>\n",
       "      <td>17.55</td>\n",
       "      <td>0</td>\n",
       "      <td>17.66</td>\n",
       "      <td>0</td>\n",
       "      <td>1</td>\n",
       "    </tr>\n",
       "    <tr>\n",
       "      <th>1928-01-06 00:00:00-05:00</th>\n",
       "      <td>17.66</td>\n",
       "      <td>17.66</td>\n",
       "      <td>17.66</td>\n",
       "      <td>17.66</td>\n",
       "      <td>0</td>\n",
       "      <td>17.50</td>\n",
       "      <td>0</td>\n",
       "      <td>0</td>\n",
       "    </tr>\n",
       "    <tr>\n",
       "      <th>...</th>\n",
       "      <td>...</td>\n",
       "      <td>...</td>\n",
       "      <td>...</td>\n",
       "      <td>...</td>\n",
       "      <td>...</td>\n",
       "      <td>...</td>\n",
       "      <td>...</td>\n",
       "      <td>...</td>\n",
       "    </tr>\n",
       "    <tr>\n",
       "      <th>2024-02-29 00:00:00-05:00</th>\n",
       "      <td>5085.36</td>\n",
       "      <td>5104.99</td>\n",
       "      <td>5061.89</td>\n",
       "      <td>5096.27</td>\n",
       "      <td>5219740000</td>\n",
       "      <td>5137.08</td>\n",
       "      <td>4292831721</td>\n",
       "      <td>1</td>\n",
       "    </tr>\n",
       "    <tr>\n",
       "      <th>2024-03-01 00:00:00-05:00</th>\n",
       "      <td>5098.51</td>\n",
       "      <td>5140.33</td>\n",
       "      <td>5094.16</td>\n",
       "      <td>5137.08</td>\n",
       "      <td>4748110000</td>\n",
       "      <td>5130.95</td>\n",
       "      <td>4444591147</td>\n",
       "      <td>0</td>\n",
       "    </tr>\n",
       "    <tr>\n",
       "      <th>2024-03-04 00:00:00-05:00</th>\n",
       "      <td>5130.99</td>\n",
       "      <td>5149.67</td>\n",
       "      <td>5127.18</td>\n",
       "      <td>5130.95</td>\n",
       "      <td>4758440000</td>\n",
       "      <td>5078.65</td>\n",
       "      <td>4549207431</td>\n",
       "      <td>0</td>\n",
       "    </tr>\n",
       "    <tr>\n",
       "      <th>2024-03-05 00:00:00-05:00</th>\n",
       "      <td>5110.52</td>\n",
       "      <td>5114.54</td>\n",
       "      <td>5056.82</td>\n",
       "      <td>5078.65</td>\n",
       "      <td>4418410000</td>\n",
       "      <td>5104.76</td>\n",
       "      <td>4505608287</td>\n",
       "      <td>1</td>\n",
       "    </tr>\n",
       "    <tr>\n",
       "      <th>2024-03-06 00:00:00-05:00</th>\n",
       "      <td>5108.03</td>\n",
       "      <td>5127.97</td>\n",
       "      <td>5092.22</td>\n",
       "      <td>5104.76</td>\n",
       "      <td>4559050000</td>\n",
       "      <td>NaN</td>\n",
       "      <td>4523422191</td>\n",
       "      <td>0</td>\n",
       "    </tr>\n",
       "  </tbody>\n",
       "</table>\n",
       "<p>24160 rows × 8 columns</p>\n",
       "</div>"
      ],
      "text/plain": [
       "                             Open    High     Low   Close      Volume  \\\n",
       "Date                                                                    \n",
       "1927-12-30 00:00:00-05:00   17.66   17.66   17.66   17.66           0   \n",
       "1928-01-03 00:00:00-05:00   17.76   17.76   17.76   17.76           0   \n",
       "1928-01-04 00:00:00-05:00   17.72   17.72   17.72   17.72           0   \n",
       "1928-01-05 00:00:00-05:00   17.55   17.55   17.55   17.55           0   \n",
       "1928-01-06 00:00:00-05:00   17.66   17.66   17.66   17.66           0   \n",
       "...                           ...     ...     ...     ...         ...   \n",
       "2024-02-29 00:00:00-05:00 5085.36 5104.99 5061.89 5096.27  5219740000   \n",
       "2024-03-01 00:00:00-05:00 5098.51 5140.33 5094.16 5137.08  4748110000   \n",
       "2024-03-04 00:00:00-05:00 5130.99 5149.67 5127.18 5130.95  4758440000   \n",
       "2024-03-05 00:00:00-05:00 5110.52 5114.54 5056.82 5078.65  4418410000   \n",
       "2024-03-06 00:00:00-05:00 5108.03 5127.97 5092.22 5104.76  4559050000   \n",
       "\n",
       "                           Tomarrow         EMA  Target  \n",
       "Date                                                     \n",
       "1927-12-30 00:00:00-05:00     17.76           0       1  \n",
       "1928-01-03 00:00:00-05:00     17.72           0       0  \n",
       "1928-01-04 00:00:00-05:00     17.55           0       0  \n",
       "1928-01-05 00:00:00-05:00     17.66           0       1  \n",
       "1928-01-06 00:00:00-05:00     17.50           0       0  \n",
       "...                             ...         ...     ...  \n",
       "2024-02-29 00:00:00-05:00   5137.08  4292831721       1  \n",
       "2024-03-01 00:00:00-05:00   5130.95  4444591147       0  \n",
       "2024-03-04 00:00:00-05:00   5078.65  4549207431       0  \n",
       "2024-03-05 00:00:00-05:00   5104.76  4505608287       1  \n",
       "2024-03-06 00:00:00-05:00       NaN  4523422191       0  \n",
       "\n",
       "[24160 rows x 8 columns]"
      ]
     },
     "execution_count": 10,
     "metadata": {},
     "output_type": "execute_result"
    }
   ],
   "source": [
    "sp500"
   ]
  },
  {
   "cell_type": "code",
   "execution_count": 11,
   "id": "cb584e6e-defc-45d4-b4c6-1554ddbbfe9e",
   "metadata": {
    "tags": []
   },
   "outputs": [],
   "source": [
    "sp500=sp500.loc[\"1990-1-1\":].copy()"
   ]
  },
  {
   "cell_type": "code",
   "execution_count": 12,
   "id": "0b609952-13c2-4e12-84fe-e36c4b50c115",
   "metadata": {
    "tags": []
   },
   "outputs": [
    {
     "data": {
      "text/html": [
       "<div>\n",
       "<style scoped>\n",
       "    .dataframe tbody tr th:only-of-type {\n",
       "        vertical-align: middle;\n",
       "    }\n",
       "\n",
       "    .dataframe tbody tr th {\n",
       "        vertical-align: top;\n",
       "    }\n",
       "\n",
       "    .dataframe thead th {\n",
       "        text-align: right;\n",
       "    }\n",
       "</style>\n",
       "<table border=\"1\" class=\"dataframe\">\n",
       "  <thead>\n",
       "    <tr style=\"text-align: right;\">\n",
       "      <th></th>\n",
       "      <th>Open</th>\n",
       "      <th>High</th>\n",
       "      <th>Low</th>\n",
       "      <th>Close</th>\n",
       "      <th>Volume</th>\n",
       "      <th>Tomarrow</th>\n",
       "      <th>EMA</th>\n",
       "      <th>Target</th>\n",
       "    </tr>\n",
       "    <tr>\n",
       "      <th>Date</th>\n",
       "      <th></th>\n",
       "      <th></th>\n",
       "      <th></th>\n",
       "      <th></th>\n",
       "      <th></th>\n",
       "      <th></th>\n",
       "      <th></th>\n",
       "      <th></th>\n",
       "    </tr>\n",
       "  </thead>\n",
       "  <tbody>\n",
       "    <tr>\n",
       "      <th>1990-01-02 00:00:00-05:00</th>\n",
       "      <td>353.40</td>\n",
       "      <td>359.69</td>\n",
       "      <td>351.98</td>\n",
       "      <td>359.69</td>\n",
       "      <td>162070000</td>\n",
       "      <td>358.76</td>\n",
       "      <td>145014622</td>\n",
       "      <td>0</td>\n",
       "    </tr>\n",
       "    <tr>\n",
       "      <th>1990-01-03 00:00:00-05:00</th>\n",
       "      <td>359.69</td>\n",
       "      <td>360.59</td>\n",
       "      <td>357.89</td>\n",
       "      <td>358.76</td>\n",
       "      <td>192330000</td>\n",
       "      <td>355.67</td>\n",
       "      <td>160786414</td>\n",
       "      <td>0</td>\n",
       "    </tr>\n",
       "    <tr>\n",
       "      <th>1990-01-04 00:00:00-05:00</th>\n",
       "      <td>358.76</td>\n",
       "      <td>358.76</td>\n",
       "      <td>352.89</td>\n",
       "      <td>355.67</td>\n",
       "      <td>177000000</td>\n",
       "      <td>352.20</td>\n",
       "      <td>166190943</td>\n",
       "      <td>0</td>\n",
       "    </tr>\n",
       "    <tr>\n",
       "      <th>1990-01-05 00:00:00-05:00</th>\n",
       "      <td>355.67</td>\n",
       "      <td>355.67</td>\n",
       "      <td>351.35</td>\n",
       "      <td>352.20</td>\n",
       "      <td>158530000</td>\n",
       "      <td>353.79</td>\n",
       "      <td>163637295</td>\n",
       "      <td>1</td>\n",
       "    </tr>\n",
       "    <tr>\n",
       "      <th>1990-01-08 00:00:00-05:00</th>\n",
       "      <td>352.20</td>\n",
       "      <td>354.24</td>\n",
       "      <td>350.54</td>\n",
       "      <td>353.79</td>\n",
       "      <td>140110000</td>\n",
       "      <td>349.62</td>\n",
       "      <td>155794863</td>\n",
       "      <td>0</td>\n",
       "    </tr>\n",
       "    <tr>\n",
       "      <th>...</th>\n",
       "      <td>...</td>\n",
       "      <td>...</td>\n",
       "      <td>...</td>\n",
       "      <td>...</td>\n",
       "      <td>...</td>\n",
       "      <td>...</td>\n",
       "      <td>...</td>\n",
       "      <td>...</td>\n",
       "    </tr>\n",
       "    <tr>\n",
       "      <th>2024-02-29 00:00:00-05:00</th>\n",
       "      <td>5085.36</td>\n",
       "      <td>5104.99</td>\n",
       "      <td>5061.89</td>\n",
       "      <td>5096.27</td>\n",
       "      <td>5219740000</td>\n",
       "      <td>5137.08</td>\n",
       "      <td>4292831721</td>\n",
       "      <td>1</td>\n",
       "    </tr>\n",
       "    <tr>\n",
       "      <th>2024-03-01 00:00:00-05:00</th>\n",
       "      <td>5098.51</td>\n",
       "      <td>5140.33</td>\n",
       "      <td>5094.16</td>\n",
       "      <td>5137.08</td>\n",
       "      <td>4748110000</td>\n",
       "      <td>5130.95</td>\n",
       "      <td>4444591147</td>\n",
       "      <td>0</td>\n",
       "    </tr>\n",
       "    <tr>\n",
       "      <th>2024-03-04 00:00:00-05:00</th>\n",
       "      <td>5130.99</td>\n",
       "      <td>5149.67</td>\n",
       "      <td>5127.18</td>\n",
       "      <td>5130.95</td>\n",
       "      <td>4758440000</td>\n",
       "      <td>5078.65</td>\n",
       "      <td>4549207431</td>\n",
       "      <td>0</td>\n",
       "    </tr>\n",
       "    <tr>\n",
       "      <th>2024-03-05 00:00:00-05:00</th>\n",
       "      <td>5110.52</td>\n",
       "      <td>5114.54</td>\n",
       "      <td>5056.82</td>\n",
       "      <td>5078.65</td>\n",
       "      <td>4418410000</td>\n",
       "      <td>5104.76</td>\n",
       "      <td>4505608287</td>\n",
       "      <td>1</td>\n",
       "    </tr>\n",
       "    <tr>\n",
       "      <th>2024-03-06 00:00:00-05:00</th>\n",
       "      <td>5108.03</td>\n",
       "      <td>5127.97</td>\n",
       "      <td>5092.22</td>\n",
       "      <td>5104.76</td>\n",
       "      <td>4559050000</td>\n",
       "      <td>NaN</td>\n",
       "      <td>4523422191</td>\n",
       "      <td>0</td>\n",
       "    </tr>\n",
       "  </tbody>\n",
       "</table>\n",
       "<p>8610 rows × 8 columns</p>\n",
       "</div>"
      ],
      "text/plain": [
       "                             Open    High     Low   Close      Volume  \\\n",
       "Date                                                                    \n",
       "1990-01-02 00:00:00-05:00  353.40  359.69  351.98  359.69   162070000   \n",
       "1990-01-03 00:00:00-05:00  359.69  360.59  357.89  358.76   192330000   \n",
       "1990-01-04 00:00:00-05:00  358.76  358.76  352.89  355.67   177000000   \n",
       "1990-01-05 00:00:00-05:00  355.67  355.67  351.35  352.20   158530000   \n",
       "1990-01-08 00:00:00-05:00  352.20  354.24  350.54  353.79   140110000   \n",
       "...                           ...     ...     ...     ...         ...   \n",
       "2024-02-29 00:00:00-05:00 5085.36 5104.99 5061.89 5096.27  5219740000   \n",
       "2024-03-01 00:00:00-05:00 5098.51 5140.33 5094.16 5137.08  4748110000   \n",
       "2024-03-04 00:00:00-05:00 5130.99 5149.67 5127.18 5130.95  4758440000   \n",
       "2024-03-05 00:00:00-05:00 5110.52 5114.54 5056.82 5078.65  4418410000   \n",
       "2024-03-06 00:00:00-05:00 5108.03 5127.97 5092.22 5104.76  4559050000   \n",
       "\n",
       "                           Tomarrow         EMA  Target  \n",
       "Date                                                     \n",
       "1990-01-02 00:00:00-05:00    358.76   145014622       0  \n",
       "1990-01-03 00:00:00-05:00    355.67   160786414       0  \n",
       "1990-01-04 00:00:00-05:00    352.20   166190943       0  \n",
       "1990-01-05 00:00:00-05:00    353.79   163637295       1  \n",
       "1990-01-08 00:00:00-05:00    349.62   155794863       0  \n",
       "...                             ...         ...     ...  \n",
       "2024-02-29 00:00:00-05:00   5137.08  4292831721       1  \n",
       "2024-03-01 00:00:00-05:00   5130.95  4444591147       0  \n",
       "2024-03-04 00:00:00-05:00   5078.65  4549207431       0  \n",
       "2024-03-05 00:00:00-05:00   5104.76  4505608287       1  \n",
       "2024-03-06 00:00:00-05:00       NaN  4523422191       0  \n",
       "\n",
       "[8610 rows x 8 columns]"
      ]
     },
     "execution_count": 12,
     "metadata": {},
     "output_type": "execute_result"
    }
   ],
   "source": [
    "sp500"
   ]
  },
  {
   "cell_type": "code",
   "execution_count": 13,
   "id": "5bc537c6-60cb-406a-b8b2-0e316404d6bc",
   "metadata": {
    "tags": []
   },
   "outputs": [
    {
     "data": {
      "text/html": [
       "<style>#sk-container-id-1 {color: black;}#sk-container-id-1 pre{padding: 0;}#sk-container-id-1 div.sk-toggleable {background-color: white;}#sk-container-id-1 label.sk-toggleable__label {cursor: pointer;display: block;width: 100%;margin-bottom: 0;padding: 0.3em;box-sizing: border-box;text-align: center;}#sk-container-id-1 label.sk-toggleable__label-arrow:before {content: \"▸\";float: left;margin-right: 0.25em;color: #696969;}#sk-container-id-1 label.sk-toggleable__label-arrow:hover:before {color: black;}#sk-container-id-1 div.sk-estimator:hover label.sk-toggleable__label-arrow:before {color: black;}#sk-container-id-1 div.sk-toggleable__content {max-height: 0;max-width: 0;overflow: hidden;text-align: left;background-color: #f0f8ff;}#sk-container-id-1 div.sk-toggleable__content pre {margin: 0.2em;color: black;border-radius: 0.25em;background-color: #f0f8ff;}#sk-container-id-1 input.sk-toggleable__control:checked~div.sk-toggleable__content {max-height: 200px;max-width: 100%;overflow: auto;}#sk-container-id-1 input.sk-toggleable__control:checked~label.sk-toggleable__label-arrow:before {content: \"▾\";}#sk-container-id-1 div.sk-estimator input.sk-toggleable__control:checked~label.sk-toggleable__label {background-color: #d4ebff;}#sk-container-id-1 div.sk-label input.sk-toggleable__control:checked~label.sk-toggleable__label {background-color: #d4ebff;}#sk-container-id-1 input.sk-hidden--visually {border: 0;clip: rect(1px 1px 1px 1px);clip: rect(1px, 1px, 1px, 1px);height: 1px;margin: -1px;overflow: hidden;padding: 0;position: absolute;width: 1px;}#sk-container-id-1 div.sk-estimator {font-family: monospace;background-color: #f0f8ff;border: 1px dotted black;border-radius: 0.25em;box-sizing: border-box;margin-bottom: 0.5em;}#sk-container-id-1 div.sk-estimator:hover {background-color: #d4ebff;}#sk-container-id-1 div.sk-parallel-item::after {content: \"\";width: 100%;border-bottom: 1px solid gray;flex-grow: 1;}#sk-container-id-1 div.sk-label:hover label.sk-toggleable__label {background-color: #d4ebff;}#sk-container-id-1 div.sk-serial::before {content: \"\";position: absolute;border-left: 1px solid gray;box-sizing: border-box;top: 0;bottom: 0;left: 50%;z-index: 0;}#sk-container-id-1 div.sk-serial {display: flex;flex-direction: column;align-items: center;background-color: white;padding-right: 0.2em;padding-left: 0.2em;position: relative;}#sk-container-id-1 div.sk-item {position: relative;z-index: 1;}#sk-container-id-1 div.sk-parallel {display: flex;align-items: stretch;justify-content: center;background-color: white;position: relative;}#sk-container-id-1 div.sk-item::before, #sk-container-id-1 div.sk-parallel-item::before {content: \"\";position: absolute;border-left: 1px solid gray;box-sizing: border-box;top: 0;bottom: 0;left: 50%;z-index: -1;}#sk-container-id-1 div.sk-parallel-item {display: flex;flex-direction: column;z-index: 1;position: relative;background-color: white;}#sk-container-id-1 div.sk-parallel-item:first-child::after {align-self: flex-end;width: 50%;}#sk-container-id-1 div.sk-parallel-item:last-child::after {align-self: flex-start;width: 50%;}#sk-container-id-1 div.sk-parallel-item:only-child::after {width: 0;}#sk-container-id-1 div.sk-dashed-wrapped {border: 1px dashed gray;margin: 0 0.4em 0.5em 0.4em;box-sizing: border-box;padding-bottom: 0.4em;background-color: white;}#sk-container-id-1 div.sk-label label {font-family: monospace;font-weight: bold;display: inline-block;line-height: 1.2em;}#sk-container-id-1 div.sk-label-container {text-align: center;}#sk-container-id-1 div.sk-container {/* jupyter's `normalize.less` sets `[hidden] { display: none; }` but bootstrap.min.css set `[hidden] { display: none !important; }` so we also need the `!important` here to be able to override the default hidden behavior on the sphinx rendered scikit-learn.org. See: https://github.com/scikit-learn/scikit-learn/issues/21755 */display: inline-block !important;position: relative;}#sk-container-id-1 div.sk-text-repr-fallback {display: none;}</style><div id=\"sk-container-id-1\" class=\"sk-top-container\"><div class=\"sk-text-repr-fallback\"><pre>RandomForestClassifier(min_samples_split=100, random_state=1)</pre><b>In a Jupyter environment, please rerun this cell to show the HTML representation or trust the notebook. <br />On GitHub, the HTML representation is unable to render, please try loading this page with nbviewer.org.</b></div><div class=\"sk-container\" hidden><div class=\"sk-item\"><div class=\"sk-estimator sk-toggleable\"><input class=\"sk-toggleable__control sk-hidden--visually\" id=\"sk-estimator-id-1\" type=\"checkbox\" checked><label for=\"sk-estimator-id-1\" class=\"sk-toggleable__label sk-toggleable__label-arrow\">RandomForestClassifier</label><div class=\"sk-toggleable__content\"><pre>RandomForestClassifier(min_samples_split=100, random_state=1)</pre></div></div></div></div></div>"
      ],
      "text/plain": [
       "RandomForestClassifier(min_samples_split=100, random_state=1)"
      ]
     },
     "execution_count": 13,
     "metadata": {},
     "output_type": "execute_result"
    }
   ],
   "source": [
    "import sklearn\n",
    "\n",
    "from sklearn.ensemble import RandomForestClassifier\n",
    "\n",
    "\n",
    "model = RandomForestClassifier(n_estimators=100, min_samples_split=100, random_state=1)\n",
    "\n",
    "train = sp500.iloc[:-100]\n",
    "test = sp500.iloc[-100:]\n",
    "\n",
    "predictors = [\"Close\", \"Volume\", \"Open\", \"High\", \"Low\"]\n",
    "model.fit(train[predictors], train[\"Target\"])"
   ]
  },
  {
   "cell_type": "code",
   "execution_count": 14,
   "id": "e20b04bd-b411-4087-87d2-639be4671141",
   "metadata": {
    "tags": []
   },
   "outputs": [],
   "source": [
    "preds = model.predict(test[predictors])\n",
    "preds = pd.Series(preds, index=test.index)"
   ]
  },
  {
   "cell_type": "code",
   "execution_count": 15,
   "id": "8309516a-fcbd-4223-8404-5bfb8adf7c59",
   "metadata": {},
   "outputs": [
    {
     "name": "stdout",
     "output_type": "stream",
     "text": [
      "Precision:  0.5\n",
      "Accuracy:  0.4\n"
     ]
    }
   ],
   "source": [
    "from sklearn.metrics import precision_score, accuracy_score\n",
    "print(\"Precision: \", precision_score(test[\"Target\"], preds))\n",
    "print(\"Accuracy: \", accuracy_score(test[\"Target\"], preds))"
   ]
  },
  {
   "cell_type": "code",
   "execution_count": 16,
   "id": "5f4a67de-e4e3-4a12-b83e-ebf9a0f688cb",
   "metadata": {
    "tags": []
   },
   "outputs": [],
   "source": [
    "combined = pd.concat([test[\"Target\"],preds],axis=1)"
   ]
  },
  {
   "cell_type": "code",
   "execution_count": 17,
   "id": "a7db9771-9b11-41fc-b26d-d31897f7a353",
   "metadata": {
    "tags": []
   },
   "outputs": [
    {
     "data": {
      "text/plain": [
       "<Axes: xlabel='Date'>"
      ]
     },
     "execution_count": 17,
     "metadata": {},
     "output_type": "execute_result"
    },
    {
     "data": {
      "image/png": "[encoded data removed]",
      "text/plain": [
       "<Figure size 640x480 with 1 Axes>"
      ]
     },
     "metadata": {},
     "output_type": "display_data"
    }
   ],
   "source": [
    "combined.plot()"
   ]
  },
  {
   "cell_type": "code",
   "execution_count": 18,
   "id": "e5dbbbc4-e1b1-4b89-9701-40113eb63d8e",
   "metadata": {
    "tags": []
   },
   "outputs": [
    {
     "name": "stdout",
     "output_type": "stream",
     "text": [
      "1   0.24\n",
      "4   0.20\n",
      "0   0.19\n",
      "3   0.19\n",
      "2   0.19\n",
      "dtype: float64\n"
     ]
    }
   ],
   "source": [
    "feature_imp=pd.Series(model.feature_importances_).sort_values(ascending=False)\n",
    "print(feature_imp[:10])"
   ]
  },
  {
   "cell_type": "code",
   "execution_count": 19,
   "id": "db62be60-e1a6-4343-ae0f-60e4a8cd72b4",
   "metadata": {},
   "outputs": [],
   "source": [
    "def predict(train, test, predictors, model):\n",
    "    model.fit(train[predictors], train[\"Target\"])\n",
    "    preds = model.predict(test[predictors])\n",
    "    preds = pd.Series(preds, index=test.index, name=\"Predictions\")\n",
    "    combined = pd.concat([test[\"Target\"], preds], axis=1)\n",
    "    return combined"
   ]
  },
  {
   "cell_type": "code",
   "execution_count": 20,
   "id": "6d0a8952-857c-4e4b-a804-be2cbf7523cf",
   "metadata": {
    "tags": []
   },
   "outputs": [],
   "source": [
    "def backtest(data, model, predictors, start=2500, step=250):\n",
    "    all_predictions = []\n",
    "    \n",
    "    for i in range(start, data.shape[0], step):\n",
    "        train = data.iloc[0:i].copy()\n",
    "        test = data.iloc[i:(i+step)].copy()\n",
    "        predictions = predict(train, test, predictors, model)\n",
    "        all_predictions.append(predictions)\n",
    "    \n",
    "    return pd.concat(all_predictions)"
   ]
  },
  {
   "cell_type": "code",
   "execution_count": 21,
   "id": "514623da-9e7b-40aa-9e14-12ce323ef51b",
   "metadata": {
    "tags": []
   },
   "outputs": [],
   "source": [
    "predictions = backtest(sp500, model, predictors)"
   ]
  },
  {
   "cell_type": "code",
   "execution_count": 22,
   "id": "a644ec36-8547-4751-9484-3be99cd76690",
   "metadata": {
    "tags": []
   },
   "outputs": [
    {
     "data": {
      "text/plain": [
       "Predictions\n",
       "0    3508\n",
       "1    2602\n",
       "Name: count, dtype: int64"
      ]
     },
     "execution_count": 22,
     "metadata": {},
     "output_type": "execute_result"
    }
   ],
   "source": [
    "predictions[\"Predictions\"].value_counts()"
   ]
  },
  {
   "cell_type": "code",
   "execution_count": 23,
   "id": "3acf83bc-c21b-4db2-9393-af32030e2784",
   "metadata": {
    "tags": []
   },
   "outputs": [
    {
     "data": {
      "text/plain": [
       "0.5292083013066872"
      ]
     },
     "execution_count": 23,
     "metadata": {},
     "output_type": "execute_result"
    }
   ],
   "source": [
    "precision_score(predictions[\"Target\"], predictions[\"Predictions\"])"
   ]
  },
  {
   "cell_type": "code",
   "execution_count": 24,
   "id": "f725ed05-363c-4c36-91a2-7ec5015169c0",
   "metadata": {
    "tags": []
   },
   "outputs": [
    {
     "data": {
      "text/plain": [
       "Target\n",
       "1   0.53\n",
       "0   0.47\n",
       "Name: count, dtype: float64"
      ]
     },
     "execution_count": 24,
     "metadata": {},
     "output_type": "execute_result"
    }
   ],
   "source": [
    "predictions[\"Target\"].value_counts() / predictions.shape[0]"
   ]
  },
  {
   "cell_type": "code",
   "execution_count": 25,
   "id": "e7638712-635c-4781-8303-fdb5e01db4b1",
   "metadata": {
    "tags": []
   },
   "outputs": [],
   "source": [
    "horizons = [2,5,60,250,1000]\n",
    "new_predictors = []\n",
    "\n",
    "for horizon in horizons:\n",
    "    rolling_averages = sp500.rolling(horizon).mean()\n",
    "   \n",
    "    \n",
    "    ratio_column = f\"Close_Ratio_{horizon}\"\n",
    "    sp500[ratio_column] = sp500[\"Close\"] / rolling_averages[\"Close\"]\n",
    "    \n",
    "    trend_column = f\"Trend_{horizon}\"\n",
    "    sp500[trend_column] = sp500.shift(1).rolling(horizon).sum()[\"Target\"]\n",
    "    \n",
    "    new_predictors+= [ratio_column, trend_column]"
   ]
  },
  {
   "cell_type": "code",
   "execution_count": 26,
   "id": "d571041b-1c16-42ef-b05d-e1b453eac01a",
   "metadata": {
    "tags": []
   },
   "outputs": [],
   "source": [
    "sp500=sp500.dropna()"
   ]
  },
  {
   "cell_type": "code",
   "execution_count": 27,
   "id": "8cbdb471-b5c5-4844-be57-31560cc79e33",
   "metadata": {
    "tags": []
   },
   "outputs": [],
   "source": [
    "model = RandomForestClassifier(n_estimators=200, min_samples_split=50, random_state=1)"
   ]
  },
  {
   "cell_type": "code",
   "execution_count": 28,
   "id": "e92dcca7-5a1a-4deb-8552-25495eff8a3e",
   "metadata": {
    "tags": []
   },
   "outputs": [],
   "source": [
    "def predict(train, test, predictors, model):\n",
    "    model.fit(train[predictors], train[\"Target\"])\n",
    "    preds = model.predict_proba(test[predictors])[:,1]\n",
    "    preds[preds >=.6] = 1\n",
    "    preds[preds <.6] = 0\n",
    "    preds = pd.Series(preds, index=test.index, name=\"Predictions\")\n",
    "    combined = pd.concat([test[\"Target\"], preds], axis=1)\n",
    "    return combined"
   ]
  },
  {
   "cell_type": "code",
   "execution_count": 29,
   "id": "83fce476-76b3-4a7d-b0bc-d8107d69e59f",
   "metadata": {
    "tags": []
   },
   "outputs": [],
   "source": [
    "predictions = backtest(sp500, model, new_predictors)"
   ]
  },
  {
   "cell_type": "code",
   "execution_count": 30,
   "id": "2b53e67e-f1d8-4d93-a7e8-7e851a68a036",
   "metadata": {
    "tags": []
   },
   "outputs": [
    {
     "data": {
      "text/plain": [
       "Predictions\n",
       "0.00    4279\n",
       "1.00     830\n",
       "Name: count, dtype: int64"
      ]
     },
     "execution_count": 30,
     "metadata": {},
     "output_type": "execute_result"
    }
   ],
   "source": [
    "predictions[\"Predictions\"].value_counts()"
   ]
  },
  {
   "cell_type": "code",
   "execution_count": 31,
   "id": "6a130f1b-f3d2-4d54-a0d1-f329783d0e82",
   "metadata": {
    "tags": []
   },
   "outputs": [
    {
     "data": {
      "text/plain": [
       "0.5734939759036145"
      ]
     },
     "execution_count": 31,
     "metadata": {},
     "output_type": "execute_result"
    }
   ],
   "source": [
    "precision_score(predictions[\"Target\"], predictions[\"Predictions\"])"
   ]
  },
  {
   "cell_type": "code",
   "execution_count": 32,
   "id": "fc580ef4-25fc-41ad-a385-6b25af3ff705",
   "metadata": {
    "tags": []
   },
   "outputs": [
    {
     "data": {
      "text/plain": [
       "Target\n",
       "1   0.54\n",
       "0   0.46\n",
       "Name: count, dtype: float64"
      ]
     },
     "execution_count": 32,
     "metadata": {},
     "output_type": "execute_result"
    }
   ],
   "source": [
    "predictions[\"Target\"].value_counts() / predictions.shape[0]"
   ]
  },
  {
   "cell_type": "code",
   "execution_count": null,
   "id": "019724f1-adbf-4b62-8f8e-4745bcfa32b7",
   "metadata": {
    "tags": []
   },
   "outputs": [],
   "source": []
  },
  {
   "cell_type": "code",
   "execution_count": 58,
   "id": "299ae592-4840-4128-86c7-fc78023c18af",
   "metadata": {
    "tags": []
   },
   "outputs": [
    {
     "name": "stdout",
     "output_type": "stream",
     "text": [
      "0   0.16\n",
      "1   0.01\n",
      "2   0.15\n",
      "3   0.03\n",
      "4   0.15\n",
      "5   0.06\n",
      "6   0.14\n",
      "7   0.08\n",
      "8   0.13\n",
      "9   0.08\n",
      "dtype: float64\n"
     ]
    }
   ],
   "source": [
    "feature_imp=pd.Series( model.feature_importances_).sort_index(ascending=True)\n",
    "print(feature_imp[:20])"
   ]
  },
  {
   "cell_type": "code",
   "execution_count": 42,
   "id": "cc98a572-0976-4340-b0c9-34ae0aff4229",
   "metadata": {
    "tags": []
   },
   "outputs": [],
   "source": [
    "new_pred=pd.Series(new_predictors)"
   ]
  },
  {
   "cell_type": "code",
   "execution_count": 43,
   "id": "de43e9b4-debe-4f72-b8b3-9050319e3a7d",
   "metadata": {
    "tags": []
   },
   "outputs": [
    {
     "data": {
      "text/plain": [
       "0       Close_Ratio_2\n",
       "1             Trend_2\n",
       "2       Close_Ratio_5\n",
       "3             Trend_5\n",
       "4      Close_Ratio_60\n",
       "5            Trend_60\n",
       "6     Close_Ratio_250\n",
       "7           Trend_250\n",
       "8    Close_Ratio_1000\n",
       "9          Trend_1000\n",
       "dtype: object"
      ]
     },
     "execution_count": 43,
     "metadata": {},
     "output_type": "execute_result"
    }
   ],
   "source": [
    "new_pred"
   ]
  },
  {
   "cell_type": "code",
   "execution_count": 64,
   "id": "be4e5eb7-a562-4de2-b024-00a8296985e7",
   "metadata": {
    "tags": []
   },
   "outputs": [],
   "source": [
    "results=pd.concat([new_pred,feature_imp],axis=1)"
   ]
  },
  {
   "cell_type": "code",
   "execution_count": 65,
   "id": "0112fa7e-3777-4e20-964a-03d8a303df8d",
   "metadata": {
    "tags": []
   },
   "outputs": [
    {
     "data": {
      "text/html": [
       "<div>\n",
       "<style scoped>\n",
       "    .dataframe tbody tr th:only-of-type {\n",
       "        vertical-align: middle;\n",
       "    }\n",
       "\n",
       "    .dataframe tbody tr th {\n",
       "        vertical-align: top;\n",
       "    }\n",
       "\n",
       "    .dataframe thead th {\n",
       "        text-align: right;\n",
       "    }\n",
       "</style>\n",
       "<table border=\"1\" class=\"dataframe\">\n",
       "  <thead>\n",
       "    <tr style=\"text-align: right;\">\n",
       "      <th></th>\n",
       "      <th>0</th>\n",
       "      <th>1</th>\n",
       "    </tr>\n",
       "  </thead>\n",
       "  <tbody>\n",
       "    <tr>\n",
       "      <th>0</th>\n",
       "      <td>Close_Ratio_2</td>\n",
       "      <td>0.16</td>\n",
       "    </tr>\n",
       "    <tr>\n",
       "      <th>1</th>\n",
       "      <td>Trend_2</td>\n",
       "      <td>0.01</td>\n",
       "    </tr>\n",
       "    <tr>\n",
       "      <th>2</th>\n",
       "      <td>Close_Ratio_5</td>\n",
       "      <td>0.15</td>\n",
       "    </tr>\n",
       "    <tr>\n",
       "      <th>3</th>\n",
       "      <td>Trend_5</td>\n",
       "      <td>0.03</td>\n",
       "    </tr>\n",
       "    <tr>\n",
       "      <th>4</th>\n",
       "      <td>Close_Ratio_60</td>\n",
       "      <td>0.15</td>\n",
       "    </tr>\n",
       "    <tr>\n",
       "      <th>5</th>\n",
       "      <td>Trend_60</td>\n",
       "      <td>0.06</td>\n",
       "    </tr>\n",
       "    <tr>\n",
       "      <th>6</th>\n",
       "      <td>Close_Ratio_250</td>\n",
       "      <td>0.14</td>\n",
       "    </tr>\n",
       "    <tr>\n",
       "      <th>7</th>\n",
       "      <td>Trend_250</td>\n",
       "      <td>0.08</td>\n",
       "    </tr>\n",
       "    <tr>\n",
       "      <th>8</th>\n",
       "      <td>Close_Ratio_1000</td>\n",
       "      <td>0.13</td>\n",
       "    </tr>\n",
       "    <tr>\n",
       "      <th>9</th>\n",
       "      <td>Trend_1000</td>\n",
       "      <td>0.08</td>\n",
       "    </tr>\n",
       "  </tbody>\n",
       "</table>\n",
       "</div>"
      ],
      "text/plain": [
       "                  0    1\n",
       "0     Close_Ratio_2 0.16\n",
       "1           Trend_2 0.01\n",
       "2     Close_Ratio_5 0.15\n",
       "3           Trend_5 0.03\n",
       "4    Close_Ratio_60 0.15\n",
       "5          Trend_60 0.06\n",
       "6   Close_Ratio_250 0.14\n",
       "7         Trend_250 0.08\n",
       "8  Close_Ratio_1000 0.13\n",
       "9        Trend_1000 0.08"
      ]
     },
     "execution_count": 65,
     "metadata": {},
     "output_type": "execute_result"
    }
   ],
   "source": [
    "results"
   ]
  },
  {
   "cell_type": "code",
   "execution_count": null,
   "id": "442f344b-e4f5-4d68-b222-f56cae334c50",
   "metadata": {},
   "outputs": [],
   "source": []
  }
 ],
 "metadata": {
  "kernelspec": {
   "display_name": "Python 3 (ipykernel)",
   "language": "python",
   "name": "python3"
  },
  "language_info": {
   "codemirror_mode": {
    "name": "ipython",
    "version": 3
   },
   "file_extension": ".py",
   "mimetype": "text/x-python",
   "name": "python",
   "nbconvert_exporter": "python",
   "pygments_lexer": "ipython3",
   "version": "3.11.5"
  }
 },
 "nbformat": 4,
 "nbformat_minor": 5
}
