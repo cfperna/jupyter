{
 "cells": [
  {
   "cell_type": "code",
   "execution_count": 3,
   "id": "fe8485c6-499e-4e6e-9eb7-37a5962bd4fa",
   "metadata": {
    "tags": []
   },
   "outputs": [
    {
     "name": "stdout",
     "output_type": "stream",
     "text": [
      "859.155029296875\n"
     ]
    }
   ],
   "source": [
    "import yfinance as yf\n",
    "\n",
    "def current_price(instrument):\n",
    "    data = yf.Ticker(instrument).history(period=\"10m\", interval=\"1m\")\n",
    "    return data[\"Close\"].iloc[-1]\n",
    "    \n",
    "\n",
    "print(current_price(\"nvda\"))"
   ]
  },
  {
   "cell_type": "code",
   "execution_count": 2,
   "id": "2c8f3619-3444-47af-9967-e2fac03cbe45",
   "metadata": {
    "tags": []
   },
   "outputs": [
    {
     "name": "stdout",
     "output_type": "stream",
     "text": [
      "The current date is a weekday and the time is earlier than 1:30 pm.\n"
     ]
    }
   ],
   "source": [
    "import datetime\n",
    "\n",
    "# Get the current date and time\n",
    "now = datetime.datetime.now()\n",
    "\n",
    "# Check if the current date is a weekday\n",
    "if now.weekday() < 5:\n",
    "  # Check if the current time is earlier than 1:30 pm\n",
    "  if now.hour < 13 or (now.hour == 13 and now.minute < 30):\n",
    "    print(\"The current date is a weekday and the time is earlier than 1:30 pm.\")\n",
    "  else:\n",
    "    print(\"The current date is a weekday but the time is not earlier than 1:30 pm.\")\n",
    "else:\n",
    "  print(\"The current date is not a weekday.\")"
   ]
  },
  {
   "cell_type": "code",
   "execution_count": 12,
   "id": "6274f0d3-b1d6-488f-9c5c-5d2cd9f12cec",
   "metadata": {},
   "outputs": [
    {
     "ename": "AttributeError",
     "evalue": "'function' object has no attribute 'line'",
     "output_type": "error",
     "traceback": [
      "\u001b[0;31m---------------------------------------------------------------------------\u001b[0m",
      "\u001b[0;31mAttributeError\u001b[0m                            Traceback (most recent call last)",
      "Cell \u001b[0;32mIn[12], line 9\u001b[0m\n\u001b[1;32m      6\u001b[0m df2 \u001b[38;5;241m=\u001b[39m pd\u001b[38;5;241m.\u001b[39mDataFrame({\u001b[38;5;124m'\u001b[39m\u001b[38;5;124mx\u001b[39m\u001b[38;5;124m'\u001b[39m: [\u001b[38;5;241m1\u001b[39m, \u001b[38;5;241m2\u001b[39m, \u001b[38;5;241m3\u001b[39m, \u001b[38;5;241m4\u001b[39m, \u001b[38;5;241m5\u001b[39m], \u001b[38;5;124m'\u001b[39m\u001b[38;5;124my\u001b[39m\u001b[38;5;124m'\u001b[39m: [\u001b[38;5;241m3\u001b[39m, \u001b[38;5;241m6\u001b[39m, \u001b[38;5;241m9\u001b[39m, \u001b[38;5;241m12\u001b[39m, \u001b[38;5;241m15\u001b[39m]})\n\u001b[1;32m      8\u001b[0m \u001b[38;5;66;03m# Plot the lines\u001b[39;00m\n\u001b[0;32m----> 9\u001b[0m plt\u001b[38;5;241m.\u001b[39mplot\u001b[38;5;241m.\u001b[39mline(x\u001b[38;5;241m=\u001b[39m\u001b[38;5;124m'\u001b[39m\u001b[38;5;124mx\u001b[39m\u001b[38;5;124m'\u001b[39m, y\u001b[38;5;241m=\u001b[39m\u001b[38;5;124m'\u001b[39m\u001b[38;5;124my\u001b[39m\u001b[38;5;124m'\u001b[39m, data\u001b[38;5;241m=\u001b[39mdf1, color\u001b[38;5;241m=\u001b[39m\u001b[38;5;124m'\u001b[39m\u001b[38;5;124mred\u001b[39m\u001b[38;5;124m'\u001b[39m)\n\u001b[1;32m     10\u001b[0m plt\u001b[38;5;241m.\u001b[39mplot\u001b[38;5;241m.\u001b[39mline(x\u001b[38;5;241m=\u001b[39m\u001b[38;5;124m'\u001b[39m\u001b[38;5;124mx\u001b[39m\u001b[38;5;124m'\u001b[39m, y\u001b[38;5;241m=\u001b[39m\u001b[38;5;124m'\u001b[39m\u001b[38;5;124my\u001b[39m\u001b[38;5;124m'\u001b[39m, data\u001b[38;5;241m=\u001b[39mdf2, color\u001b[38;5;241m=\u001b[39m\u001b[38;5;124m'\u001b[39m\u001b[38;5;124mblue\u001b[39m\u001b[38;5;124m'\u001b[39m)\n\u001b[1;32m     12\u001b[0m \u001b[38;5;66;03m# Set the title and labels\u001b[39;00m\n",
      "\u001b[0;31mAttributeError\u001b[0m: 'function' object has no attribute 'line'"
     ]
    }
   ],
   "source": [
    "import pandas as pd\n",
    "import matplotlib.pyplot as plt\n",
    "\n",
    "# Create two DataFrames\n",
    "df1 = pd.DataFrame({'x': [1, 2, 3, 4, 5], 'y': [2, 4, 6, 8, 10]})\n",
    "df2 = pd.DataFrame({'x': [1, 2, 3, 4, 5], 'y': [3, 6, 9, 12, 15]})\n",
    "\n",
    "# Plot the lines\n",
    "plt.plot.line(x='x', y='y', data=df1, color='red')\n",
    "plt.plot.line(x='x', y='y', data=df2, color='blue')\n",
    "\n",
    "# Set the title and labels\n",
    "plt.title('Line Plot')\n",
    "plt.xlabel('x-axis')\n",
    "plt.ylabel('y-axis')\n",
    "\n",
    "# Display the plot\n",
    "plt.show()"
   ]
  },
  {
   "cell_type": "code",
   "execution_count": null,
   "id": "78f3e65a-c417-4454-911c-ac12d8d9b48f",
   "metadata": {},
   "outputs": [],
   "source": []
  }
 ],
 "metadata": {
  "kernelspec": {
   "display_name": "Python 3 (ipykernel)",
   "language": "python",
   "name": "python3"
  },
  "language_info": {
   "codemirror_mode": {
    "name": "ipython",
    "version": 3
   },
   "file_extension": ".py",
   "mimetype": "text/x-python",
   "name": "python",
   "nbconvert_exporter": "python",
   "pygments_lexer": "ipython3",
   "version": "3.11.5"
  }
 },
 "nbformat": 4,
 "nbformat_minor": 5
}
