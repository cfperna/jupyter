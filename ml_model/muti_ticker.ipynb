{
 "cells": [
  {
   "cell_type": "code",
   "execution_count": 1,
   "id": "e3bc2f3f-183f-4ab8-91bb-0718b2229794",
   "metadata": {
    "tags": []
   },
   "outputs": [],
   "source": [
    "import yfinance as yf\n",
    "import pandas as pd\n",
    "from ipywidgets import Output"
   ]
  },
  {
   "cell_type": "code",
   "execution_count": 2,
   "id": "c6bafde3-d608-483f-9e10-4d86bf3a4ce1",
   "metadata": {
    "tags": []
   },
   "outputs": [],
   "source": [
    "stocks = [\"aapl\",\"goog\"]\n",
    "data2 =pd.DataFrame([])\n",
    "pd.options.display.float_format = '{:.2f}'.format\n",
    "# pd.set_option('display.max_rows', None)"
   ]
  },
  {
   "cell_type": "code",
   "execution_count": 3,
   "id": "34623d40-dd4c-498e-99f7-aaf83e730ab0",
   "metadata": {
    "tags": []
   },
   "outputs": [],
   "source": [
    "mtickers= yf.Tickers(\"aapl goog\")"
   ]
  },
  {
   "cell_type": "code",
   "execution_count": 4,
   "id": "8998f2d9-a749-4511-844c-315ede47c789",
   "metadata": {
    "tags": []
   },
   "outputs": [
    {
     "data": {
      "text/plain": [
       "yfinance.Tickers object <AAPL,GOOG>"
      ]
     },
     "execution_count": 4,
     "metadata": {},
     "output_type": "execute_result"
    }
   ],
   "source": [
    "mtickers"
   ]
  },
  {
   "cell_type": "code",
   "execution_count": 5,
   "id": "736b930e-448a-4ddf-946d-64ca35ca310b",
   "metadata": {
    "tags": []
   },
   "outputs": [
    {
     "data": {
      "text/plain": [
       "dict"
      ]
     },
     "execution_count": 5,
     "metadata": {},
     "output_type": "execute_result"
    }
   ],
   "source": [
    "type (mtickers.tickers)"
   ]
  },
  {
   "cell_type": "code",
   "execution_count": 6,
   "id": "55a280dd-90b8-4dc8-ab42-6fbfd7f55b31",
   "metadata": {
    "tags": []
   },
   "outputs": [
    {
     "data": {
      "text/plain": [
       "dict_keys(['AAPL', 'GOOG'])"
      ]
     },
     "execution_count": 6,
     "metadata": {},
     "output_type": "execute_result"
    }
   ],
   "source": [
    "mtickers.tickers.keys()"
   ]
  },
  {
   "cell_type": "code",
   "execution_count": 7,
   "id": "224da7a1-93c8-462d-a7cb-51d926371fb6",
   "metadata": {
    "tags": []
   },
   "outputs": [],
   "source": [
    "aapl = mtickers.tickers['AAPL']"
   ]
  },
  {
   "cell_type": "code",
   "execution_count": 8,
   "id": "2a130099-a409-4f3c-865f-f24e57758829",
   "metadata": {
    "collapsed": true,
    "jupyter": {
     "outputs_hidden": true
    },
    "tags": []
   },
   "outputs": [
    {
     "data": {
      "text/html": [
       "<div>\n",
       "<style scoped>\n",
       "    .dataframe tbody tr th:only-of-type {\n",
       "        vertical-align: middle;\n",
       "    }\n",
       "\n",
       "    .dataframe tbody tr th {\n",
       "        vertical-align: top;\n",
       "    }\n",
       "\n",
       "    .dataframe thead th {\n",
       "        text-align: right;\n",
       "    }\n",
       "</style>\n",
       "<table border=\"1\" class=\"dataframe\">\n",
       "  <thead>\n",
       "    <tr style=\"text-align: right;\">\n",
       "      <th></th>\n",
       "      <th>Open</th>\n",
       "      <th>High</th>\n",
       "      <th>Low</th>\n",
       "      <th>Close</th>\n",
       "      <th>Volume</th>\n",
       "      <th>Dividends</th>\n",
       "      <th>Stock Splits</th>\n",
       "    </tr>\n",
       "    <tr>\n",
       "      <th>Date</th>\n",
       "      <th></th>\n",
       "      <th></th>\n",
       "      <th></th>\n",
       "      <th></th>\n",
       "      <th></th>\n",
       "      <th></th>\n",
       "      <th></th>\n",
       "    </tr>\n",
       "  </thead>\n",
       "  <tbody>\n",
       "    <tr>\n",
       "      <th>2024-02-08 00:00:00-05:00</th>\n",
       "      <td>189.15</td>\n",
       "      <td>189.30</td>\n",
       "      <td>187.11</td>\n",
       "      <td>188.08</td>\n",
       "      <td>40962000</td>\n",
       "      <td>0.00</td>\n",
       "      <td>0.00</td>\n",
       "    </tr>\n",
       "    <tr>\n",
       "      <th>2024-02-09 00:00:00-05:00</th>\n",
       "      <td>188.65</td>\n",
       "      <td>189.99</td>\n",
       "      <td>188.00</td>\n",
       "      <td>188.85</td>\n",
       "      <td>45155200</td>\n",
       "      <td>0.24</td>\n",
       "      <td>0.00</td>\n",
       "    </tr>\n",
       "    <tr>\n",
       "      <th>2024-02-12 00:00:00-05:00</th>\n",
       "      <td>188.42</td>\n",
       "      <td>188.67</td>\n",
       "      <td>186.79</td>\n",
       "      <td>187.15</td>\n",
       "      <td>41781900</td>\n",
       "      <td>0.00</td>\n",
       "      <td>0.00</td>\n",
       "    </tr>\n",
       "    <tr>\n",
       "      <th>2024-02-13 00:00:00-05:00</th>\n",
       "      <td>185.77</td>\n",
       "      <td>186.21</td>\n",
       "      <td>183.51</td>\n",
       "      <td>185.04</td>\n",
       "      <td>56529500</td>\n",
       "      <td>0.00</td>\n",
       "      <td>0.00</td>\n",
       "    </tr>\n",
       "    <tr>\n",
       "      <th>2024-02-14 00:00:00-05:00</th>\n",
       "      <td>185.32</td>\n",
       "      <td>185.53</td>\n",
       "      <td>182.44</td>\n",
       "      <td>184.15</td>\n",
       "      <td>54630500</td>\n",
       "      <td>0.00</td>\n",
       "      <td>0.00</td>\n",
       "    </tr>\n",
       "    <tr>\n",
       "      <th>2024-02-15 00:00:00-05:00</th>\n",
       "      <td>183.55</td>\n",
       "      <td>184.49</td>\n",
       "      <td>181.35</td>\n",
       "      <td>183.86</td>\n",
       "      <td>65434500</td>\n",
       "      <td>0.00</td>\n",
       "      <td>0.00</td>\n",
       "    </tr>\n",
       "    <tr>\n",
       "      <th>2024-02-16 00:00:00-05:00</th>\n",
       "      <td>183.42</td>\n",
       "      <td>184.85</td>\n",
       "      <td>181.67</td>\n",
       "      <td>182.31</td>\n",
       "      <td>49701400</td>\n",
       "      <td>0.00</td>\n",
       "      <td>0.00</td>\n",
       "    </tr>\n",
       "    <tr>\n",
       "      <th>2024-02-20 00:00:00-05:00</th>\n",
       "      <td>181.79</td>\n",
       "      <td>182.43</td>\n",
       "      <td>180.00</td>\n",
       "      <td>181.56</td>\n",
       "      <td>53665600</td>\n",
       "      <td>0.00</td>\n",
       "      <td>0.00</td>\n",
       "    </tr>\n",
       "    <tr>\n",
       "      <th>2024-02-21 00:00:00-05:00</th>\n",
       "      <td>181.94</td>\n",
       "      <td>182.89</td>\n",
       "      <td>180.66</td>\n",
       "      <td>182.32</td>\n",
       "      <td>41529700</td>\n",
       "      <td>0.00</td>\n",
       "      <td>0.00</td>\n",
       "    </tr>\n",
       "    <tr>\n",
       "      <th>2024-02-22 00:00:00-05:00</th>\n",
       "      <td>183.48</td>\n",
       "      <td>184.96</td>\n",
       "      <td>182.46</td>\n",
       "      <td>184.37</td>\n",
       "      <td>52292200</td>\n",
       "      <td>0.00</td>\n",
       "      <td>0.00</td>\n",
       "    </tr>\n",
       "    <tr>\n",
       "      <th>2024-02-23 00:00:00-05:00</th>\n",
       "      <td>185.01</td>\n",
       "      <td>185.04</td>\n",
       "      <td>182.23</td>\n",
       "      <td>182.52</td>\n",
       "      <td>45119700</td>\n",
       "      <td>0.00</td>\n",
       "      <td>0.00</td>\n",
       "    </tr>\n",
       "    <tr>\n",
       "      <th>2024-02-26 00:00:00-05:00</th>\n",
       "      <td>182.24</td>\n",
       "      <td>182.76</td>\n",
       "      <td>180.65</td>\n",
       "      <td>181.16</td>\n",
       "      <td>40867400</td>\n",
       "      <td>0.00</td>\n",
       "      <td>0.00</td>\n",
       "    </tr>\n",
       "    <tr>\n",
       "      <th>2024-02-27 00:00:00-05:00</th>\n",
       "      <td>181.10</td>\n",
       "      <td>183.92</td>\n",
       "      <td>179.56</td>\n",
       "      <td>182.63</td>\n",
       "      <td>54318900</td>\n",
       "      <td>0.00</td>\n",
       "      <td>0.00</td>\n",
       "    </tr>\n",
       "    <tr>\n",
       "      <th>2024-02-28 00:00:00-05:00</th>\n",
       "      <td>182.51</td>\n",
       "      <td>183.12</td>\n",
       "      <td>180.13</td>\n",
       "      <td>181.42</td>\n",
       "      <td>48953900</td>\n",
       "      <td>0.00</td>\n",
       "      <td>0.00</td>\n",
       "    </tr>\n",
       "    <tr>\n",
       "      <th>2024-02-29 00:00:00-05:00</th>\n",
       "      <td>181.27</td>\n",
       "      <td>182.57</td>\n",
       "      <td>179.53</td>\n",
       "      <td>180.75</td>\n",
       "      <td>136682600</td>\n",
       "      <td>0.00</td>\n",
       "      <td>0.00</td>\n",
       "    </tr>\n",
       "    <tr>\n",
       "      <th>2024-03-01 00:00:00-05:00</th>\n",
       "      <td>179.55</td>\n",
       "      <td>180.53</td>\n",
       "      <td>177.38</td>\n",
       "      <td>179.66</td>\n",
       "      <td>73488000</td>\n",
       "      <td>0.00</td>\n",
       "      <td>0.00</td>\n",
       "    </tr>\n",
       "    <tr>\n",
       "      <th>2024-03-04 00:00:00-05:00</th>\n",
       "      <td>176.15</td>\n",
       "      <td>176.90</td>\n",
       "      <td>173.79</td>\n",
       "      <td>175.10</td>\n",
       "      <td>81510100</td>\n",
       "      <td>0.00</td>\n",
       "      <td>0.00</td>\n",
       "    </tr>\n",
       "    <tr>\n",
       "      <th>2024-03-05 00:00:00-05:00</th>\n",
       "      <td>170.76</td>\n",
       "      <td>172.04</td>\n",
       "      <td>169.62</td>\n",
       "      <td>170.12</td>\n",
       "      <td>95132400</td>\n",
       "      <td>0.00</td>\n",
       "      <td>0.00</td>\n",
       "    </tr>\n",
       "    <tr>\n",
       "      <th>2024-03-06 00:00:00-05:00</th>\n",
       "      <td>171.06</td>\n",
       "      <td>171.24</td>\n",
       "      <td>168.68</td>\n",
       "      <td>169.12</td>\n",
       "      <td>68587700</td>\n",
       "      <td>0.00</td>\n",
       "      <td>0.00</td>\n",
       "    </tr>\n",
       "    <tr>\n",
       "      <th>2024-03-07 00:00:00-05:00</th>\n",
       "      <td>169.15</td>\n",
       "      <td>170.73</td>\n",
       "      <td>168.49</td>\n",
       "      <td>169.00</td>\n",
       "      <td>69118003</td>\n",
       "      <td>0.00</td>\n",
       "      <td>0.00</td>\n",
       "    </tr>\n",
       "  </tbody>\n",
       "</table>\n",
       "</div>"
      ],
      "text/plain": [
       "                            Open   High    Low  Close     Volume  Dividends  \\\n",
       "Date                                                                          \n",
       "2024-02-08 00:00:00-05:00 189.15 189.30 187.11 188.08   40962000       0.00   \n",
       "2024-02-09 00:00:00-05:00 188.65 189.99 188.00 188.85   45155200       0.24   \n",
       "2024-02-12 00:00:00-05:00 188.42 188.67 186.79 187.15   41781900       0.00   \n",
       "2024-02-13 00:00:00-05:00 185.77 186.21 183.51 185.04   56529500       0.00   \n",
       "2024-02-14 00:00:00-05:00 185.32 185.53 182.44 184.15   54630500       0.00   \n",
       "2024-02-15 00:00:00-05:00 183.55 184.49 181.35 183.86   65434500       0.00   \n",
       "2024-02-16 00:00:00-05:00 183.42 184.85 181.67 182.31   49701400       0.00   \n",
       "2024-02-20 00:00:00-05:00 181.79 182.43 180.00 181.56   53665600       0.00   \n",
       "2024-02-21 00:00:00-05:00 181.94 182.89 180.66 182.32   41529700       0.00   \n",
       "2024-02-22 00:00:00-05:00 183.48 184.96 182.46 184.37   52292200       0.00   \n",
       "2024-02-23 00:00:00-05:00 185.01 185.04 182.23 182.52   45119700       0.00   \n",
       "2024-02-26 00:00:00-05:00 182.24 182.76 180.65 181.16   40867400       0.00   \n",
       "2024-02-27 00:00:00-05:00 181.10 183.92 179.56 182.63   54318900       0.00   \n",
       "2024-02-28 00:00:00-05:00 182.51 183.12 180.13 181.42   48953900       0.00   \n",
       "2024-02-29 00:00:00-05:00 181.27 182.57 179.53 180.75  136682600       0.00   \n",
       "2024-03-01 00:00:00-05:00 179.55 180.53 177.38 179.66   73488000       0.00   \n",
       "2024-03-04 00:00:00-05:00 176.15 176.90 173.79 175.10   81510100       0.00   \n",
       "2024-03-05 00:00:00-05:00 170.76 172.04 169.62 170.12   95132400       0.00   \n",
       "2024-03-06 00:00:00-05:00 171.06 171.24 168.68 169.12   68587700       0.00   \n",
       "2024-03-07 00:00:00-05:00 169.15 170.73 168.49 169.00   69118003       0.00   \n",
       "\n",
       "                           Stock Splits  \n",
       "Date                                     \n",
       "2024-02-08 00:00:00-05:00          0.00  \n",
       "2024-02-09 00:00:00-05:00          0.00  \n",
       "2024-02-12 00:00:00-05:00          0.00  \n",
       "2024-02-13 00:00:00-05:00          0.00  \n",
       "2024-02-14 00:00:00-05:00          0.00  \n",
       "2024-02-15 00:00:00-05:00          0.00  \n",
       "2024-02-16 00:00:00-05:00          0.00  \n",
       "2024-02-20 00:00:00-05:00          0.00  \n",
       "2024-02-21 00:00:00-05:00          0.00  \n",
       "2024-02-22 00:00:00-05:00          0.00  \n",
       "2024-02-23 00:00:00-05:00          0.00  \n",
       "2024-02-26 00:00:00-05:00          0.00  \n",
       "2024-02-27 00:00:00-05:00          0.00  \n",
       "2024-02-28 00:00:00-05:00          0.00  \n",
       "2024-02-29 00:00:00-05:00          0.00  \n",
       "2024-03-01 00:00:00-05:00          0.00  \n",
       "2024-03-04 00:00:00-05:00          0.00  \n",
       "2024-03-05 00:00:00-05:00          0.00  \n",
       "2024-03-06 00:00:00-05:00          0.00  \n",
       "2024-03-07 00:00:00-05:00          0.00  "
      ]
     },
     "execution_count": 8,
     "metadata": {},
     "output_type": "execute_result"
    }
   ],
   "source": [
    "aapl.history()"
   ]
  },
  {
   "cell_type": "code",
   "execution_count": 28,
   "id": "de5c92e5-676f-466b-a4cc-339b0460dc09",
   "metadata": {
    "tags": []
   },
   "outputs": [
    {
     "name": "stdout",
     "output_type": "stream",
     "text": [
      "<class 'str'>\n",
      "<class 'str'>\n"
     ]
    }
   ],
   "source": [
    "for k,v in mtickers.tickers.items():\n",
    "    print(type (v.ticker))"
   ]
  },
  {
   "cell_type": "code",
   "execution_count": null,
   "id": "da533b99-961e-4bfa-9fec-c84a11cd1bcc",
   "metadata": {
    "tags": []
   },
   "outputs": [],
   "source": []
  },
  {
   "cell_type": "code",
   "execution_count": null,
   "id": "94fc2d57-7f76-444e-97a5-316c75cd05f3",
   "metadata": {},
   "outputs": [],
   "source": []
  }
 ],
 "metadata": {
  "kernelspec": {
   "display_name": "Python 3 (ipykernel)",
   "language": "python",
   "name": "python3"
  },
  "language_info": {
   "codemirror_mode": {
    "name": "ipython",
    "version": 3
   },
   "file_extension": ".py",
   "mimetype": "text/x-python",
   "name": "python",
   "nbconvert_exporter": "python",
   "pygments_lexer": "ipython3",
   "version": "3.11.5"
  }
 },
 "nbformat": 4,
 "nbformat_minor": 5
}
