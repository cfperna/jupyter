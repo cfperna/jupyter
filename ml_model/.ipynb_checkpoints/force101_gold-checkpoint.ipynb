{
 "cells": [
  {
   "cell_type": "code",
   "execution_count": 1,
   "id": "ffc627ce-8984-4b9c-a1d7-9b9d128ddde1",
   "metadata": {
    "tags": []
   },
   "outputs": [],
   "source": [
    "import yfinance as yf\n",
    "import pandas as pd\n",
    "from ipywidgets import Output\n",
    "from sklearn.metrics import precision_score, accuracy_score,recall_score,f1_score,roc_auc_score\n",
    "\n",
    "predictors = []"
   ]
  },
  {
   "cell_type": "code",
   "execution_count": 2,
   "id": "f3677237-cad2-4454-8474-e552d1442d17",
   "metadata": {
    "tags": []
   },
   "outputs": [],
   "source": [
    "stocks = [\"amat\",'qqq']\n",
    "data =pd.DataFrame([])\n",
    "# pd.options.display.float_format = '{:.2f}'.format\n",
    "pd.set_option('display.max_rows', None)\n",
    "pd.set_option('display.max_columns', None)\n",
    "first = True\n",
    "predictors =[]\n",
    "               \n",
    "for stock in stocks:\n",
    "    \n",
    "    stk = yf.Ticker(stock)\n",
    "    stock_data = stk.history(period='max') \n",
    "    stock_data=stock_data.loc[\"1990-1-1\":].copy()\n",
    "    \n",
    "    \n",
    "    \n",
    "    Gap_column = f'{stock}_Gap'\n",
    "    stock_data[Gap_column]=(stock_data['Open']-stock_data['Close'].shift(1))/stock_data['Close']\n",
    "    predictors +=[Gap_column]\n",
    "    \n",
    "    if stock ==\"qqq\":\n",
    "        del (stock_data['Capital Gains'])\n",
    "       \n",
    "       \n",
    "      \n",
    "    del stock_data[\"Dividends\"]\n",
    "    del stock_data[\"Stock Splits\"] \n",
    "    del stock_data[\"Open\"]\n",
    "   \n",
    "    stock_data[\"Tomarrow\"] = stock_data[\"Close\"].shift(-5)\n",
    "    stock_data[\"Target\"] = (stock_data[\"Tomarrow\"]>stock_data[\"Close\"]).astype(int)\n",
    "    stock_data[\"TargetS\"] = (stock_data[\"Tomarrow\"]<stock_data[\"Close\"]).astype(int)\n",
    "    # stock_data[\"TargetS\"] - (stock_data[\"Tomarrow\"]<stock_data[\"Close\"]).astype(int)\n",
    "    \n",
    "    \n",
    " \n",
    "    \n",
    "    horizons = [2,5,60,250,1000]\n",
    "    # predictors = []\n",
    "\n",
    "    for horizon in horizons:\n",
    "        rolling_averages = stock_data.rolling(horizon).mean()\n",
    "\n",
    "        ratio_column = f\"{stock}_Close_Avg_{horizon}\"\n",
    "        stock_data[ratio_column] = stock_data[\"Close\"] / rolling_averages[\"Close\"]\n",
    "\n",
    "        trend_column = f\"{stock}_Trend_{horizon}\"\n",
    "        stock_data[trend_column] = stock_data.shift(1).rolling(horizon).sum()[\"Target\"]\n",
    "         \n",
    "        \n",
    "        # v_ratio_col =f\"{stock}_VolAvg_{horizon}\"\n",
    "        # stock_data[v_ratio_col] = stock_data[\"Volume\"]/rolling_averages[\"Volume\"]\n",
    "        \n",
    "        predictors+= [ ratio_column, trend_column]\n",
    "        \n",
    "    \n",
    "    if  first:\n",
    "        first = False\n",
    "        target_stock = stock\n",
    "        Entry_pr = (stock_data[\"High\"].shift(-1)+stock_data[\"Low\"].shift(-1))/2\n",
    "        Exit_pr = (stock_data[\"High\"].shift(-6)+stock_data[\"Low\"].shift(-6))/2\n",
    "        Trades = pd.concat([Entry_pr,Exit_pr],ignore_index=False,axis=1)\n",
    "        Trades.columns = ['Entry','Exit']\n",
    "    else:\n",
    "        del stock_data['Close']\n",
    "        del stock_data['Volume']\n",
    "        del stock_data['Target']\n",
    "        del stock_data['TargetS']\n",
    "        del stock_data['Tomarrow']\n",
    "        \n",
    "    del stock_data[\"High\"]\n",
    "    del stock_data[\"Low\"]  \n",
    "                   \n",
    "    data = pd.concat([data,stock_data],ignore_index = False,axis=1)\n",
    "    "
   ]
  },
  {
   "cell_type": "code",
   "execution_count": 3,
   "id": "58d1296d-986f-4018-8c01-255c15eda53f",
   "metadata": {},
   "outputs": [],
   "source": [
    "todays_data=data.tail(1)"
   ]
  },
  {
   "cell_type": "code",
   "execution_count": 4,
   "id": "1546cb29-11dc-479a-8a9a-89ffce20e210",
   "metadata": {},
   "outputs": [],
   "source": [
    "data=data.dropna()"
   ]
  },
  {
   "cell_type": "code",
   "execution_count": 5,
   "id": "8e548148-f9dc-4208-ae9b-4b6f9f77d920",
   "metadata": {
    "tags": []
   },
   "outputs": [],
   "source": [
    "import sklearn\n",
    "from sklearn.ensemble import RandomForestClassifier\n",
    "\n",
    "train = data.iloc[:-100]\n",
    "test = data.iloc[-100:]"
   ]
  },
  {
   "cell_type": "code",
   "execution_count": 6,
   "id": "5e84f077-99ed-4908-b2e6-dbfe127823b3",
   "metadata": {},
   "outputs": [],
   "source": [
    "def backtest(data, model, predictors, long, start=2500, step=250):\n",
    "    all_predictions = []\n",
    "    \n",
    "    for i in range(start, data.shape[0], step):\n",
    "        train = data.iloc[0:i].copy()\n",
    "        test = data.iloc[i:(i+step)].copy()\n",
    "        predictions = predict(train, test, predictors, model,long)\n",
    "        all_predictions.append(predictions)\n",
    "    \n",
    "    return pd.concat(all_predictions)"
   ]
  },
  {
   "cell_type": "code",
   "execution_count": 7,
   "id": "21bbae5d-dac7-48a0-9dbd-a5a96d50ecb7",
   "metadata": {
    "tags": []
   },
   "outputs": [],
   "source": [
    "def predict(train, test, predictors, model,long):\n",
    "    if long:\n",
    "        model.fit(train[predictors], train[\"Target\"])\n",
    "    else:\n",
    "        model.fit(train[predictors], train[\"TargetS\"])\n",
    "        \n",
    "    preds = model.predict_proba(test[predictors])[:,1]\n",
    "     \n",
    "    preds[preds >=.4] = 1\n",
    "    preds[preds <.4] = 0\n",
    "    preds = pd.Series(preds, index=test.index, name=\"Predictions\")\n",
    "    if long:\n",
    "        combined = pd.concat([test[\"Target\"], preds], axis=1)\n",
    "    else:\n",
    "        combined = pd.concat([test[\"TargetS\"], preds], axis=1)\n",
    "    return combined"
   ]
  },
  {
   "cell_type": "code",
   "execution_count": 8,
   "id": "fbad09ff-7d0c-42bc-8be1-7a391848866c",
   "metadata": {
    "tags": []
   },
   "outputs": [],
   "source": [
    "model = RandomForestClassifier(n_estimators=300, min_samples_split=50, random_state=1)\n",
    "modelS = RandomForestClassifier(n_estimators=300, min_samples_split=50, random_state=1)\n"
   ]
  },
  {
   "cell_type": "code",
   "execution_count": 9,
   "id": "974568e4-de31-42b5-a0cc-681621026cad",
   "metadata": {},
   "outputs": [],
   "source": [
    "predictions = backtest(data, model, predictors,True)\n",
    "predictionsS = backtest(data, modelS, predictors,False)"
   ]
  },
  {
   "cell_type": "code",
   "execution_count": 10,
   "id": "32857baa-6600-4735-8ab2-22045a35babd",
   "metadata": {
    "tags": []
   },
   "outputs": [],
   "source": [
    "predictionsS = predictionsS.rename(columns={\"Predictions\":\"PredictionsS\"})"
   ]
  },
  {
   "cell_type": "code",
   "execution_count": 11,
   "id": "5bd78e93-e003-4b94-ba1b-1d1d88fc66ab",
   "metadata": {
    "tags": []
   },
   "outputs": [],
   "source": [
    "all_predictions =pd.concat([predictions,predictionsS],ignore_index = False,axis=1)"
   ]
  },
  {
   "cell_type": "code",
   "execution_count": 12,
   "id": "e5766532-f306-451e-88f2-2f7035fa7b05",
   "metadata": {
    "tags": []
   },
   "outputs": [],
   "source": [
    "Trades2= pd.concat([all_predictions,Trades],ignore_index=False,axis=1)"
   ]
  },
  {
   "cell_type": "code",
   "execution_count": 13,
   "id": "f7df0ceb-cc0f-4c79-8ea7-0151b5ca3947",
   "metadata": {
    "tags": []
   },
   "outputs": [],
   "source": [
    "recall=recall_score(predictions[\"Target\"], predictions[\"Predictions\"])\n",
    "prec = precision_score(predictions[\"Target\"], predictions[\"Predictions\"])\n",
    "acc = accuracy_score(predictions[\"Target\"], predictions[\"Predictions\"])\n",
    "f1 = f1_score(predictions[\"Target\"], predictions[\"Predictions\"])"
   ]
  },
  {
   "cell_type": "code",
   "execution_count": 14,
   "id": "12d8f9fa-2f74-438c-b4d2-80ea41b92dc6",
   "metadata": {
    "tags": []
   },
   "outputs": [],
   "source": [
    "recallS=recall_score(predictionsS[\"TargetS\"], predictionsS[\"PredictionsS\"])\n",
    "precS = precision_score(predictionsS[\"TargetS\"], predictionsS[\"PredictionsS\"])\n",
    "accS = accuracy_score(predictionsS[\"TargetS\"], predictionsS[\"PredictionsS\"])\n",
    "f1S = f1_score(predictionsS[\"TargetS\"], predictionsS[\"PredictionsS\"])"
   ]
  },
  {
   "cell_type": "code",
   "execution_count": 15,
   "id": "a6996817-347f-40f9-b86b-25ac9961096d",
   "metadata": {
    "tags": []
   },
   "outputs": [],
   "source": [
    "feature_imp=pd.Series( model.feature_importances_).sort_index(ascending=True)\n",
    "feature_impS=pd.Series( modelS.feature_importances_).sort_index(ascending=True)\n"
   ]
  },
  {
   "cell_type": "code",
   "execution_count": 16,
   "id": "4df17f31-2a73-4ade-8094-98d384c3a2fc",
   "metadata": {
    "tags": []
   },
   "outputs": [],
   "source": [
    "pred=pd.Series(predictors)"
   ]
  },
  {
   "cell_type": "code",
   "execution_count": 17,
   "id": "0e6cc12b-fe57-4974-aaea-1f9133b8dc32",
   "metadata": {},
   "outputs": [],
   "source": [
    "predictors2=todays_data"
   ]
  },
  {
   "cell_type": "code",
   "execution_count": 18,
   "id": "31d089a2-a4cb-4660-9986-62f8b339c8f8",
   "metadata": {
    "tags": []
   },
   "outputs": [],
   "source": [
    "del predictors2[\"Close\"]\n",
    "del predictors2[\"Volume\"]\n",
    "del predictors2[\"Tomarrow\"]\n",
    "del predictors2[\"Target\"]\n",
    "del predictors2[\"TargetS\"]"
   ]
  },
  {
   "cell_type": "code",
   "execution_count": 19,
   "id": "44e0b306-eaeb-4221-808b-ac10670bcb1a",
   "metadata": {
    "tags": []
   },
   "outputs": [],
   "source": [
    "# res = model.predict(predictors2)"
   ]
  },
  {
   "cell_type": "code",
   "execution_count": 20,
   "id": "c1d7fb45-1454-4ef0-9839-dc4cfbc11ca8",
   "metadata": {
    "tags": []
   },
   "outputs": [],
   "source": [
    " # print(pd.concat([pred,feature_imp],axis=1))"
   ]
  },
  {
   "cell_type": "code",
   "execution_count": 21,
   "id": "d1e42ec9-076b-4e51-b790-afd9a61be589",
   "metadata": {},
   "outputs": [],
   "source": [
    "# print(pd.concat([pred,feature_impS],axis=1))"
   ]
  },
  {
   "cell_type": "code",
   "execution_count": 22,
   "id": "f501843a-6acb-4a8f-b5a6-6b285659697d",
   "metadata": {
    "tags": []
   },
   "outputs": [
    {
     "data": {
      "text/plain": [
       "Predictions\n",
       "1.0    1826\n",
       "0.0     963\n",
       "Name: count, dtype: int64"
      ]
     },
     "execution_count": 22,
     "metadata": {},
     "output_type": "execute_result"
    }
   ],
   "source": [
    "predictions[\"Predictions\"].value_counts()"
   ]
  },
  {
   "cell_type": "code",
   "execution_count": 23,
   "id": "4575da79-c80b-4089-9007-e78963d6b9bd",
   "metadata": {
    "tags": []
   },
   "outputs": [
    {
     "data": {
      "text/plain": [
       "PredictionsS\n",
       "1.0    1730\n",
       "0.0    1059\n",
       "Name: count, dtype: int64"
      ]
     },
     "execution_count": 23,
     "metadata": {},
     "output_type": "execute_result"
    }
   ],
   "source": [
    "predictionsS[\"PredictionsS\"].value_counts()"
   ]
  },
  {
   "cell_type": "code",
   "execution_count": 24,
   "id": "eabf4fe1-0700-479e-85ce-a1a18aaffaa0",
   "metadata": {
    "tags": []
   },
   "outputs": [
    {
     "name": "stdout",
     "output_type": "stream",
     "text": [
      "baseline:  Target\n",
      "1    0.562926\n",
      "0    0.437074\n",
      "Name: count, dtype: float64\n"
     ]
    }
   ],
   "source": [
    "print(\"baseline: \", predictions[\"Target\"].value_counts() / predictions.shape[0])"
   ]
  },
  {
   "cell_type": "code",
   "execution_count": 25,
   "id": "d9d8c181-2fb0-4032-8ea7-00d53a42de7c",
   "metadata": {
    "tags": []
   },
   "outputs": [
    {
     "name": "stdout",
     "output_type": "stream",
     "text": [
      "baselineS:  TargetS\n",
      "0    0.563643\n",
      "1    0.436357\n",
      "Name: count, dtype: float64\n"
     ]
    }
   ],
   "source": [
    "print(\"baselineS: \", predictionsS[\"TargetS\"].value_counts() / predictionsS.shape[0])"
   ]
  },
  {
   "cell_type": "code",
   "execution_count": 26,
   "id": "f8d428e3-d714-40d4-87a1-daefa522ebad",
   "metadata": {
    "tags": []
   },
   "outputs": [],
   "source": [
    "res = model.predict(predictors2)\n",
    "resS = modelS.predict(predictors2)"
   ]
  },
  {
   "cell_type": "code",
   "execution_count": 27,
   "id": "47fa591a-7a1a-447a-b861-5b32b9e54b7c",
   "metadata": {
    "tags": []
   },
   "outputs": [
    {
     "name": "stdout",
     "output_type": "stream",
     "text": [
      "accuracy:   0.7884546432413051   (TP + TN)/(TP + TN + FP +FN)\n",
      "recall:     0.8936305732484077   TP/(TP+FN)\n",
      "precision:  0.7683461117196057   TP/(TP + FP)\n",
      "f1:         0.826266195524146   (precision * recall)/(precision + recall\n"
     ]
    }
   ],
   "source": [
    "print('accuracy:  ',acc,'  (TP + TN)/(TP + TN + FP +FN)' )\n",
    "print('recall:    ',recall,'  TP/(TP+FN)')\n",
    "print('precision: ',prec,'  TP/(TP + FP)')\n",
    "print('f1:        ',f1,'  (precision * recall)/(precision + recall')"
   ]
  },
  {
   "cell_type": "code",
   "execution_count": 28,
   "id": "2f711027-b713-4b56-b767-25306f3746e8",
   "metadata": {
    "tags": []
   },
   "outputs": [
    {
     "name": "stdout",
     "output_type": "stream",
     "text": [
      "accuracyS:   0.7113660810326282  (TP + TN)/(TP + TN + FP +FN)\n",
      "recallS:     0.8800328677074774  TP/(TP+FN)\n",
      "precisionS:  0.7683461117196057  TP/(TP + FP)\n",
      "f1S:         0.7268408551068885  (precision * recall)/(precision + recall\n"
     ]
    }
   ],
   "source": [
    "print('accuracyS:  ',accS,' (TP + TN)/(TP + TN + FP +FN)' )\n",
    "print('recallS:    ',recallS,' TP/(TP+FN)')\n",
    "print('precisionS: ',prec,' TP/(TP + FP)')\n",
    "print('f1S:        ',f1S,' (precision * recall)/(precision + recall')"
   ]
  },
  {
   "cell_type": "code",
   "execution_count": 29,
   "id": "27c16a15-6b96-4dee-94dd-370fa0ef0ecd",
   "metadata": {},
   "outputs": [
    {
     "name": "stdout",
     "output_type": "stream",
     "text": [
      "stand down going Long\n"
     ]
    }
   ],
   "source": [
    "if res:\n",
    "    print('trade Long')\n",
    "else:\n",
    "    print('stand down going Long')\n",
    "        "
   ]
  },
  {
   "cell_type": "code",
   "execution_count": 30,
   "id": "e9531443-0ca3-4e78-9284-79dc35bdceba",
   "metadata": {},
   "outputs": [
    {
     "name": "stdout",
     "output_type": "stream",
     "text": [
      "trade Short\n"
     ]
    }
   ],
   "source": [
    "if resS:\n",
    "    print('trade Short')\n",
    "else:\n",
    "    print('stand down Shorting')\n",
    "        "
   ]
  },
  {
   "cell_type": "code",
   "execution_count": 31,
   "id": "f70e8248-eda3-427f-9a67-13591f33ca6c",
   "metadata": {},
   "outputs": [
    {
     "name": "stdout",
     "output_type": "stream",
     "text": [
      "amat :  200.60000610351562\n"
     ]
    }
   ],
   "source": [
    "def current_price(instrument):\n",
    "    data = yf.Ticker(instrument).history(period=\"10m\", interval=\"1m\")\n",
    "    return data[\"Close\"].iloc[-1]\n",
    "    \n",
    "\n",
    "print(target_stock,\": \", current_price(target_stock))"
   ]
  },
  {
   "cell_type": "code",
   "execution_count": 32,
   "id": "5a8601df-900e-4984-a9fc-5f3f81093bc9",
   "metadata": {
    "tags": []
   },
   "outputs": [],
   "source": [
    "Trades2 = Trades2.dropna()"
   ]
  },
  {
   "cell_type": "code",
   "execution_count": 33,
   "id": "b746828e-5814-440f-8c61-520597a9d892",
   "metadata": {
    "tags": []
   },
   "outputs": [],
   "source": [
    "Trades2['Longs']=(Trades2['Predictions']*(Trades2['Exit']-Trades2['Entry']))/Trades2['Entry']\n",
    "Trades2['Shorts']= (Trades2['PredictionsS']*(Trades2['Entry']-Trades2['Exit']))/Trades2['Entry']  "
   ]
  },
  {
   "cell_type": "code",
   "execution_count": 34,
   "id": "32b96857-5413-449b-aba1-eadb125931d3",
   "metadata": {
    "tags": []
   },
   "outputs": [],
   "source": [
    "long_profit = Trades2['Longs'].tail(250).sum()\n",
    "short_profit = Trades2['Shorts'].tail(250).sum()"
   ]
  },
  {
   "cell_type": "code",
   "execution_count": 35,
   "id": "b05f7678-9054-4303-9282-356f2324e71d",
   "metadata": {
    "tags": []
   },
   "outputs": [],
   "source": [
    "avg_share_price = data['Close'].tail(250).sum()/250"
   ]
  },
  {
   "cell_type": "code",
   "execution_count": 36,
   "id": "f59e3990-5cb7-41a7-9ea7-dfc78b8ed01e",
   "metadata": {
    "tags": []
   },
   "outputs": [
    {
     "name": "stdout",
     "output_type": "stream",
     "text": [
      "Longs: 480.88 %  Shorts: 134.68 %  Total: 615.55 %\n"
     ]
    }
   ],
   "source": [
    "print('Longs:',format(long_profit*100,\".2f\"),\"%  Shorts:\",format(short_profit*100,\".2f\"),\"%  Total:\",format(((long_profit+short_profit)*100),'.2f'),\"%\")"
   ]
  },
  {
   "cell_type": "code",
   "execution_count": null,
   "id": "96832dd4-7f25-4db3-af26-d71dfc9b5c09",
   "metadata": {},
   "outputs": [],
   "source": []
  }
 ],
 "metadata": {
  "kernelspec": {
   "display_name": "Python 3 (ipykernel)",
   "language": "python",
   "name": "python3"
  },
  "language_info": {
   "codemirror_mode": {
    "name": "ipython",
    "version": 3
   },
   "file_extension": ".py",
   "mimetype": "text/x-python",
   "name": "python",
   "nbconvert_exporter": "python",
   "pygments_lexer": "ipython3",
   "version": "3.11.5"
  }
 },
 "nbformat": 4,
 "nbformat_minor": 5
}
