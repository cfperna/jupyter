{
 "cells": [
  {
   "cell_type": "code",
   "execution_count": 1,
   "id": "5855aa22-a32f-4e3f-bd5c-08759760acd7",
   "metadata": {
    "tags": []
   },
   "outputs": [],
   "source": [
    "import yfinance as yf\n",
    "import pandas as pd\n",
    "from sklearn.metrics import precision_score, accuracy_score\n",
    "from sklearn.metrics import precision_score, accuracy_score"
   ]
  },
  {
   "cell_type": "code",
   "execution_count": 2,
   "id": "94fd3287-ae34-493b-b5d4-4bfdbc80b90a",
   "metadata": {
    "tags": []
   },
   "outputs": [],
   "source": [
    "pd.options.display.float_format = '{:.2f}'.format\n",
    "sp500 = yf.Ticker(\"^GSPC\")\n",
    "sp500 = sp500.history(period=\"max\")\n",
    "# sp500.to_csv(\"sp500.csv\")"
   ]
  },
  {
   "cell_type": "code",
   "execution_count": 3,
   "id": "f6715d25-681d-4e91-b574-0e1a32bfc2c4",
   "metadata": {
    "tags": []
   },
   "outputs": [],
   "source": [
    "del sp500[\"Dividends\"]\n",
    "del sp500[\"Stock Splits\"]"
   ]
  },
  {
   "cell_type": "code",
   "execution_count": 4,
   "id": "b8e32e7c-e5dd-407e-bab3-66949d871227",
   "metadata": {
    "tags": []
   },
   "outputs": [],
   "source": [
    "sp500[\"Tomarrow\"] = sp500[\"Close\"].shift(-1)"
   ]
  },
  {
   "cell_type": "code",
   "execution_count": 5,
   "id": "0d449891-61fd-4a46-8585-7a5d402b9adc",
   "metadata": {
    "tags": []
   },
   "outputs": [],
   "source": [
    "sp500[\"Target\"] = (sp500[\"Close\"]<sp500[\"Tomarrow\"]).astype(int)"
   ]
  },
  {
   "cell_type": "code",
   "execution_count": 6,
   "id": "cb584e6e-defc-45d4-b4c6-1554ddbbfe9e",
   "metadata": {
    "tags": []
   },
   "outputs": [],
   "source": [
    "sp500=sp500.loc[\"1990-1-1\":].copy()"
   ]
  },
  {
   "cell_type": "code",
   "execution_count": 7,
   "id": "d84adfbb-f42c-4f16-ac69-81923ce52941",
   "metadata": {
    "tags": []
   },
   "outputs": [
    {
     "data": {
      "text/html": [
       "<div>\n",
       "<style scoped>\n",
       "    .dataframe tbody tr th:only-of-type {\n",
       "        vertical-align: middle;\n",
       "    }\n",
       "\n",
       "    .dataframe tbody tr th {\n",
       "        vertical-align: top;\n",
       "    }\n",
       "\n",
       "    .dataframe thead th {\n",
       "        text-align: right;\n",
       "    }\n",
       "</style>\n",
       "<table border=\"1\" class=\"dataframe\">\n",
       "  <thead>\n",
       "    <tr style=\"text-align: right;\">\n",
       "      <th></th>\n",
       "      <th>Open</th>\n",
       "      <th>High</th>\n",
       "      <th>Low</th>\n",
       "      <th>Close</th>\n",
       "      <th>Volume</th>\n",
       "      <th>Tomarrow</th>\n",
       "      <th>Target</th>\n",
       "    </tr>\n",
       "    <tr>\n",
       "      <th>Date</th>\n",
       "      <th></th>\n",
       "      <th></th>\n",
       "      <th></th>\n",
       "      <th></th>\n",
       "      <th></th>\n",
       "      <th></th>\n",
       "      <th></th>\n",
       "    </tr>\n",
       "  </thead>\n",
       "  <tbody>\n",
       "    <tr>\n",
       "      <th>1990-01-02 00:00:00-05:00</th>\n",
       "      <td>353.40</td>\n",
       "      <td>359.69</td>\n",
       "      <td>351.98</td>\n",
       "      <td>359.69</td>\n",
       "      <td>162070000</td>\n",
       "      <td>358.76</td>\n",
       "      <td>0</td>\n",
       "    </tr>\n",
       "    <tr>\n",
       "      <th>1990-01-03 00:00:00-05:00</th>\n",
       "      <td>359.69</td>\n",
       "      <td>360.59</td>\n",
       "      <td>357.89</td>\n",
       "      <td>358.76</td>\n",
       "      <td>192330000</td>\n",
       "      <td>355.67</td>\n",
       "      <td>0</td>\n",
       "    </tr>\n",
       "    <tr>\n",
       "      <th>1990-01-04 00:00:00-05:00</th>\n",
       "      <td>358.76</td>\n",
       "      <td>358.76</td>\n",
       "      <td>352.89</td>\n",
       "      <td>355.67</td>\n",
       "      <td>177000000</td>\n",
       "      <td>352.20</td>\n",
       "      <td>0</td>\n",
       "    </tr>\n",
       "    <tr>\n",
       "      <th>1990-01-05 00:00:00-05:00</th>\n",
       "      <td>355.67</td>\n",
       "      <td>355.67</td>\n",
       "      <td>351.35</td>\n",
       "      <td>352.20</td>\n",
       "      <td>158530000</td>\n",
       "      <td>353.79</td>\n",
       "      <td>1</td>\n",
       "    </tr>\n",
       "    <tr>\n",
       "      <th>1990-01-08 00:00:00-05:00</th>\n",
       "      <td>352.20</td>\n",
       "      <td>354.24</td>\n",
       "      <td>350.54</td>\n",
       "      <td>353.79</td>\n",
       "      <td>140110000</td>\n",
       "      <td>349.62</td>\n",
       "      <td>0</td>\n",
       "    </tr>\n",
       "    <tr>\n",
       "      <th>...</th>\n",
       "      <td>...</td>\n",
       "      <td>...</td>\n",
       "      <td>...</td>\n",
       "      <td>...</td>\n",
       "      <td>...</td>\n",
       "      <td>...</td>\n",
       "      <td>...</td>\n",
       "    </tr>\n",
       "    <tr>\n",
       "      <th>2024-03-11 00:00:00-04:00</th>\n",
       "      <td>5111.96</td>\n",
       "      <td>5124.66</td>\n",
       "      <td>5091.14</td>\n",
       "      <td>5117.94</td>\n",
       "      <td>3896430000</td>\n",
       "      <td>5175.27</td>\n",
       "      <td>1</td>\n",
       "    </tr>\n",
       "    <tr>\n",
       "      <th>2024-03-12 00:00:00-04:00</th>\n",
       "      <td>5134.30</td>\n",
       "      <td>5179.87</td>\n",
       "      <td>5114.48</td>\n",
       "      <td>5175.27</td>\n",
       "      <td>4080510000</td>\n",
       "      <td>5165.31</td>\n",
       "      <td>0</td>\n",
       "    </tr>\n",
       "    <tr>\n",
       "      <th>2024-03-13 00:00:00-04:00</th>\n",
       "      <td>5173.49</td>\n",
       "      <td>5179.14</td>\n",
       "      <td>5151.88</td>\n",
       "      <td>5165.31</td>\n",
       "      <td>4282890000</td>\n",
       "      <td>5150.48</td>\n",
       "      <td>0</td>\n",
       "    </tr>\n",
       "    <tr>\n",
       "      <th>2024-03-14 00:00:00-04:00</th>\n",
       "      <td>5175.14</td>\n",
       "      <td>5176.85</td>\n",
       "      <td>5123.30</td>\n",
       "      <td>5150.48</td>\n",
       "      <td>4687970000</td>\n",
       "      <td>5122.17</td>\n",
       "      <td>0</td>\n",
       "    </tr>\n",
       "    <tr>\n",
       "      <th>2024-03-15 00:00:00-04:00</th>\n",
       "      <td>5123.31</td>\n",
       "      <td>5136.86</td>\n",
       "      <td>5104.35</td>\n",
       "      <td>5122.17</td>\n",
       "      <td>1757279000</td>\n",
       "      <td>NaN</td>\n",
       "      <td>0</td>\n",
       "    </tr>\n",
       "  </tbody>\n",
       "</table>\n",
       "<p>8617 rows × 7 columns</p>\n",
       "</div>"
      ],
      "text/plain": [
       "                             Open    High     Low   Close      Volume  \\\n",
       "Date                                                                    \n",
       "1990-01-02 00:00:00-05:00  353.40  359.69  351.98  359.69   162070000   \n",
       "1990-01-03 00:00:00-05:00  359.69  360.59  357.89  358.76   192330000   \n",
       "1990-01-04 00:00:00-05:00  358.76  358.76  352.89  355.67   177000000   \n",
       "1990-01-05 00:00:00-05:00  355.67  355.67  351.35  352.20   158530000   \n",
       "1990-01-08 00:00:00-05:00  352.20  354.24  350.54  353.79   140110000   \n",
       "...                           ...     ...     ...     ...         ...   \n",
       "2024-03-11 00:00:00-04:00 5111.96 5124.66 5091.14 5117.94  3896430000   \n",
       "2024-03-12 00:00:00-04:00 5134.30 5179.87 5114.48 5175.27  4080510000   \n",
       "2024-03-13 00:00:00-04:00 5173.49 5179.14 5151.88 5165.31  4282890000   \n",
       "2024-03-14 00:00:00-04:00 5175.14 5176.85 5123.30 5150.48  4687970000   \n",
       "2024-03-15 00:00:00-04:00 5123.31 5136.86 5104.35 5122.17  1757279000   \n",
       "\n",
       "                           Tomarrow  Target  \n",
       "Date                                         \n",
       "1990-01-02 00:00:00-05:00    358.76       0  \n",
       "1990-01-03 00:00:00-05:00    355.67       0  \n",
       "1990-01-04 00:00:00-05:00    352.20       0  \n",
       "1990-01-05 00:00:00-05:00    353.79       1  \n",
       "1990-01-08 00:00:00-05:00    349.62       0  \n",
       "...                             ...     ...  \n",
       "2024-03-11 00:00:00-04:00   5175.27       1  \n",
       "2024-03-12 00:00:00-04:00   5165.31       0  \n",
       "2024-03-13 00:00:00-04:00   5150.48       0  \n",
       "2024-03-14 00:00:00-04:00   5122.17       0  \n",
       "2024-03-15 00:00:00-04:00       NaN       0  \n",
       "\n",
       "[8617 rows x 7 columns]"
      ]
     },
     "execution_count": 7,
     "metadata": {},
     "output_type": "execute_result"
    }
   ],
   "source": [
    "sp500"
   ]
  },
  {
   "cell_type": "code",
   "execution_count": 8,
   "id": "5bc537c6-60cb-406a-b8b2-0e316404d6bc",
   "metadata": {
    "tags": []
   },
   "outputs": [],
   "source": [
    "import sklearn\n",
    "from sklearn.ensemble import RandomForestClassifier\n",
    "\n",
    "train = sp500.iloc[:-100]\n",
    "test = sp500.iloc[-100:]"
   ]
  },
  {
   "cell_type": "code",
   "execution_count": 9,
   "id": "e7638712-635c-4781-8303-fdb5e01db4b1",
   "metadata": {
    "tags": []
   },
   "outputs": [],
   "source": [
    "horizons = [2,5,60,250,1000]\n",
    "new_predictors = []\n",
    "\n",
    "for horizon in horizons:\n",
    "    rolling_averages = sp500.rolling(horizon).mean()\n",
    "   \n",
    "    ratio_column = f\"Close_Ratio_{horizon}\"\n",
    "    sp500[ratio_column] = sp500[\"Close\"] / rolling_averages[\"Close\"]\n",
    "    \n",
    "    trend_column = f\"Trend_{horizon}\"\n",
    "    sp500[trend_column] = sp500.shift(1).rolling(horizon).sum()[\"Target\"]\n",
    "    \n",
    "    new_predictors+= [ratio_column, trend_column]"
   ]
  },
  {
   "cell_type": "code",
   "execution_count": 10,
   "id": "6d0a8952-857c-4e4b-a804-be2cbf7523cf",
   "metadata": {
    "tags": []
   },
   "outputs": [],
   "source": [
    "def backtest(data, model, new_predictors, start=2500, step=250):\n",
    "    all_predictions = []\n",
    "    \n",
    "    for i in range(start, data.shape[0], step):\n",
    "        train = data.iloc[0:i].copy()\n",
    "        test = data.iloc[i:(i+step)].copy()\n",
    "        predictions = predict(train, test, new_predictors, model)\n",
    "        all_predictions.append(predictions)\n",
    "    \n",
    "    return pd.concat(all_predictions)"
   ]
  },
  {
   "cell_type": "code",
   "execution_count": 11,
   "id": "d571041b-1c16-42ef-b05d-e1b453eac01a",
   "metadata": {
    "tags": []
   },
   "outputs": [
    {
     "data": {
      "text/html": [
       "<div>\n",
       "<style scoped>\n",
       "    .dataframe tbody tr th:only-of-type {\n",
       "        vertical-align: middle;\n",
       "    }\n",
       "\n",
       "    .dataframe tbody tr th {\n",
       "        vertical-align: top;\n",
       "    }\n",
       "\n",
       "    .dataframe thead th {\n",
       "        text-align: right;\n",
       "    }\n",
       "</style>\n",
       "<table border=\"1\" class=\"dataframe\">\n",
       "  <thead>\n",
       "    <tr style=\"text-align: right;\">\n",
       "      <th></th>\n",
       "      <th>Open</th>\n",
       "      <th>High</th>\n",
       "      <th>Low</th>\n",
       "      <th>Close</th>\n",
       "      <th>Volume</th>\n",
       "      <th>Tomarrow</th>\n",
       "      <th>Target</th>\n",
       "      <th>Close_Ratio_2</th>\n",
       "      <th>Trend_2</th>\n",
       "      <th>Close_Ratio_5</th>\n",
       "      <th>Trend_5</th>\n",
       "      <th>Close_Ratio_60</th>\n",
       "      <th>Trend_60</th>\n",
       "      <th>Close_Ratio_250</th>\n",
       "      <th>Trend_250</th>\n",
       "      <th>Close_Ratio_1000</th>\n",
       "      <th>Trend_1000</th>\n",
       "    </tr>\n",
       "    <tr>\n",
       "      <th>Date</th>\n",
       "      <th></th>\n",
       "      <th></th>\n",
       "      <th></th>\n",
       "      <th></th>\n",
       "      <th></th>\n",
       "      <th></th>\n",
       "      <th></th>\n",
       "      <th></th>\n",
       "      <th></th>\n",
       "      <th></th>\n",
       "      <th></th>\n",
       "      <th></th>\n",
       "      <th></th>\n",
       "      <th></th>\n",
       "      <th></th>\n",
       "      <th></th>\n",
       "      <th></th>\n",
       "    </tr>\n",
       "  </thead>\n",
       "  <tbody>\n",
       "    <tr>\n",
       "      <th>1993-12-14 00:00:00-05:00</th>\n",
       "      <td>465.73</td>\n",
       "      <td>466.12</td>\n",
       "      <td>462.46</td>\n",
       "      <td>463.06</td>\n",
       "      <td>275050000</td>\n",
       "      <td>461.84</td>\n",
       "      <td>0</td>\n",
       "      <td>1.00</td>\n",
       "      <td>1.00</td>\n",
       "      <td>1.00</td>\n",
       "      <td>1.00</td>\n",
       "      <td>1.00</td>\n",
       "      <td>32.00</td>\n",
       "      <td>1.03</td>\n",
       "      <td>127.00</td>\n",
       "      <td>1.18</td>\n",
       "      <td>512.00</td>\n",
       "    </tr>\n",
       "    <tr>\n",
       "      <th>1993-12-15 00:00:00-05:00</th>\n",
       "      <td>463.06</td>\n",
       "      <td>463.69</td>\n",
       "      <td>461.84</td>\n",
       "      <td>461.84</td>\n",
       "      <td>331770000</td>\n",
       "      <td>463.34</td>\n",
       "      <td>1</td>\n",
       "      <td>1.00</td>\n",
       "      <td>0.00</td>\n",
       "      <td>1.00</td>\n",
       "      <td>1.00</td>\n",
       "      <td>1.00</td>\n",
       "      <td>32.00</td>\n",
       "      <td>1.03</td>\n",
       "      <td>126.00</td>\n",
       "      <td>1.17</td>\n",
       "      <td>512.00</td>\n",
       "    </tr>\n",
       "    <tr>\n",
       "      <th>1993-12-16 00:00:00-05:00</th>\n",
       "      <td>461.86</td>\n",
       "      <td>463.98</td>\n",
       "      <td>461.86</td>\n",
       "      <td>463.34</td>\n",
       "      <td>284620000</td>\n",
       "      <td>466.38</td>\n",
       "      <td>1</td>\n",
       "      <td>1.00</td>\n",
       "      <td>1.00</td>\n",
       "      <td>1.00</td>\n",
       "      <td>2.00</td>\n",
       "      <td>1.00</td>\n",
       "      <td>32.00</td>\n",
       "      <td>1.03</td>\n",
       "      <td>127.00</td>\n",
       "      <td>1.18</td>\n",
       "      <td>513.00</td>\n",
       "    </tr>\n",
       "    <tr>\n",
       "      <th>1993-12-17 00:00:00-05:00</th>\n",
       "      <td>463.34</td>\n",
       "      <td>466.38</td>\n",
       "      <td>463.34</td>\n",
       "      <td>466.38</td>\n",
       "      <td>363750000</td>\n",
       "      <td>465.85</td>\n",
       "      <td>0</td>\n",
       "      <td>1.00</td>\n",
       "      <td>2.00</td>\n",
       "      <td>1.00</td>\n",
       "      <td>3.00</td>\n",
       "      <td>1.01</td>\n",
       "      <td>32.00</td>\n",
       "      <td>1.03</td>\n",
       "      <td>128.00</td>\n",
       "      <td>1.18</td>\n",
       "      <td>514.00</td>\n",
       "    </tr>\n",
       "    <tr>\n",
       "      <th>1993-12-20 00:00:00-05:00</th>\n",
       "      <td>466.38</td>\n",
       "      <td>466.90</td>\n",
       "      <td>465.53</td>\n",
       "      <td>465.85</td>\n",
       "      <td>255900000</td>\n",
       "      <td>465.30</td>\n",
       "      <td>0</td>\n",
       "      <td>1.00</td>\n",
       "      <td>1.00</td>\n",
       "      <td>1.00</td>\n",
       "      <td>2.00</td>\n",
       "      <td>1.01</td>\n",
       "      <td>32.00</td>\n",
       "      <td>1.03</td>\n",
       "      <td>128.00</td>\n",
       "      <td>1.18</td>\n",
       "      <td>513.00</td>\n",
       "    </tr>\n",
       "    <tr>\n",
       "      <th>...</th>\n",
       "      <td>...</td>\n",
       "      <td>...</td>\n",
       "      <td>...</td>\n",
       "      <td>...</td>\n",
       "      <td>...</td>\n",
       "      <td>...</td>\n",
       "      <td>...</td>\n",
       "      <td>...</td>\n",
       "      <td>...</td>\n",
       "      <td>...</td>\n",
       "      <td>...</td>\n",
       "      <td>...</td>\n",
       "      <td>...</td>\n",
       "      <td>...</td>\n",
       "      <td>...</td>\n",
       "      <td>...</td>\n",
       "      <td>...</td>\n",
       "    </tr>\n",
       "    <tr>\n",
       "      <th>2024-03-08 00:00:00-05:00</th>\n",
       "      <td>5164.46</td>\n",
       "      <td>5189.26</td>\n",
       "      <td>5117.50</td>\n",
       "      <td>5123.69</td>\n",
       "      <td>4208870000</td>\n",
       "      <td>5117.94</td>\n",
       "      <td>0</td>\n",
       "      <td>1.00</td>\n",
       "      <td>1.00</td>\n",
       "      <td>1.00</td>\n",
       "      <td>2.00</td>\n",
       "      <td>1.05</td>\n",
       "      <td>37.00</td>\n",
       "      <td>1.15</td>\n",
       "      <td>141.00</td>\n",
       "      <td>1.26</td>\n",
       "      <td>534.00</td>\n",
       "    </tr>\n",
       "    <tr>\n",
       "      <th>2024-03-11 00:00:00-04:00</th>\n",
       "      <td>5111.96</td>\n",
       "      <td>5124.66</td>\n",
       "      <td>5091.14</td>\n",
       "      <td>5117.94</td>\n",
       "      <td>3896430000</td>\n",
       "      <td>5175.27</td>\n",
       "      <td>1</td>\n",
       "      <td>1.00</td>\n",
       "      <td>0.00</td>\n",
       "      <td>1.00</td>\n",
       "      <td>2.00</td>\n",
       "      <td>1.04</td>\n",
       "      <td>36.00</td>\n",
       "      <td>1.15</td>\n",
       "      <td>141.00</td>\n",
       "      <td>1.26</td>\n",
       "      <td>533.00</td>\n",
       "    </tr>\n",
       "    <tr>\n",
       "      <th>2024-03-12 00:00:00-04:00</th>\n",
       "      <td>5134.30</td>\n",
       "      <td>5179.87</td>\n",
       "      <td>5114.48</td>\n",
       "      <td>5175.27</td>\n",
       "      <td>4080510000</td>\n",
       "      <td>5165.31</td>\n",
       "      <td>0</td>\n",
       "      <td>1.01</td>\n",
       "      <td>1.00</td>\n",
       "      <td>1.01</td>\n",
       "      <td>3.00</td>\n",
       "      <td>1.05</td>\n",
       "      <td>36.00</td>\n",
       "      <td>1.16</td>\n",
       "      <td>141.00</td>\n",
       "      <td>1.27</td>\n",
       "      <td>534.00</td>\n",
       "    </tr>\n",
       "    <tr>\n",
       "      <th>2024-03-13 00:00:00-04:00</th>\n",
       "      <td>5173.49</td>\n",
       "      <td>5179.14</td>\n",
       "      <td>5151.88</td>\n",
       "      <td>5165.31</td>\n",
       "      <td>4282890000</td>\n",
       "      <td>5150.48</td>\n",
       "      <td>0</td>\n",
       "      <td>1.00</td>\n",
       "      <td>1.00</td>\n",
       "      <td>1.00</td>\n",
       "      <td>2.00</td>\n",
       "      <td>1.05</td>\n",
       "      <td>35.00</td>\n",
       "      <td>1.15</td>\n",
       "      <td>141.00</td>\n",
       "      <td>1.27</td>\n",
       "      <td>534.00</td>\n",
       "    </tr>\n",
       "    <tr>\n",
       "      <th>2024-03-14 00:00:00-04:00</th>\n",
       "      <td>5175.14</td>\n",
       "      <td>5176.85</td>\n",
       "      <td>5123.30</td>\n",
       "      <td>5150.48</td>\n",
       "      <td>4687970000</td>\n",
       "      <td>5122.17</td>\n",
       "      <td>0</td>\n",
       "      <td>1.00</td>\n",
       "      <td>0.00</td>\n",
       "      <td>1.00</td>\n",
       "      <td>1.00</td>\n",
       "      <td>1.05</td>\n",
       "      <td>35.00</td>\n",
       "      <td>1.15</td>\n",
       "      <td>140.00</td>\n",
       "      <td>1.27</td>\n",
       "      <td>533.00</td>\n",
       "    </tr>\n",
       "  </tbody>\n",
       "</table>\n",
       "<p>7616 rows × 17 columns</p>\n",
       "</div>"
      ],
      "text/plain": [
       "                             Open    High     Low   Close      Volume  \\\n",
       "Date                                                                    \n",
       "1993-12-14 00:00:00-05:00  465.73  466.12  462.46  463.06   275050000   \n",
       "1993-12-15 00:00:00-05:00  463.06  463.69  461.84  461.84   331770000   \n",
       "1993-12-16 00:00:00-05:00  461.86  463.98  461.86  463.34   284620000   \n",
       "1993-12-17 00:00:00-05:00  463.34  466.38  463.34  466.38   363750000   \n",
       "1993-12-20 00:00:00-05:00  466.38  466.90  465.53  465.85   255900000   \n",
       "...                           ...     ...     ...     ...         ...   \n",
       "2024-03-08 00:00:00-05:00 5164.46 5189.26 5117.50 5123.69  4208870000   \n",
       "2024-03-11 00:00:00-04:00 5111.96 5124.66 5091.14 5117.94  3896430000   \n",
       "2024-03-12 00:00:00-04:00 5134.30 5179.87 5114.48 5175.27  4080510000   \n",
       "2024-03-13 00:00:00-04:00 5173.49 5179.14 5151.88 5165.31  4282890000   \n",
       "2024-03-14 00:00:00-04:00 5175.14 5176.85 5123.30 5150.48  4687970000   \n",
       "\n",
       "                           Tomarrow  Target  Close_Ratio_2  Trend_2  \\\n",
       "Date                                                                  \n",
       "1993-12-14 00:00:00-05:00    461.84       0           1.00     1.00   \n",
       "1993-12-15 00:00:00-05:00    463.34       1           1.00     0.00   \n",
       "1993-12-16 00:00:00-05:00    466.38       1           1.00     1.00   \n",
       "1993-12-17 00:00:00-05:00    465.85       0           1.00     2.00   \n",
       "1993-12-20 00:00:00-05:00    465.30       0           1.00     1.00   \n",
       "...                             ...     ...            ...      ...   \n",
       "2024-03-08 00:00:00-05:00   5117.94       0           1.00     1.00   \n",
       "2024-03-11 00:00:00-04:00   5175.27       1           1.00     0.00   \n",
       "2024-03-12 00:00:00-04:00   5165.31       0           1.01     1.00   \n",
       "2024-03-13 00:00:00-04:00   5150.48       0           1.00     1.00   \n",
       "2024-03-14 00:00:00-04:00   5122.17       0           1.00     0.00   \n",
       "\n",
       "                           Close_Ratio_5  Trend_5  Close_Ratio_60  Trend_60  \\\n",
       "Date                                                                          \n",
       "1993-12-14 00:00:00-05:00           1.00     1.00            1.00     32.00   \n",
       "1993-12-15 00:00:00-05:00           1.00     1.00            1.00     32.00   \n",
       "1993-12-16 00:00:00-05:00           1.00     2.00            1.00     32.00   \n",
       "1993-12-17 00:00:00-05:00           1.00     3.00            1.01     32.00   \n",
       "1993-12-20 00:00:00-05:00           1.00     2.00            1.01     32.00   \n",
       "...                                  ...      ...             ...       ...   \n",
       "2024-03-08 00:00:00-05:00           1.00     2.00            1.05     37.00   \n",
       "2024-03-11 00:00:00-04:00           1.00     2.00            1.04     36.00   \n",
       "2024-03-12 00:00:00-04:00           1.01     3.00            1.05     36.00   \n",
       "2024-03-13 00:00:00-04:00           1.00     2.00            1.05     35.00   \n",
       "2024-03-14 00:00:00-04:00           1.00     1.00            1.05     35.00   \n",
       "\n",
       "                           Close_Ratio_250  Trend_250  Close_Ratio_1000  \\\n",
       "Date                                                                      \n",
       "1993-12-14 00:00:00-05:00             1.03     127.00              1.18   \n",
       "1993-12-15 00:00:00-05:00             1.03     126.00              1.17   \n",
       "1993-12-16 00:00:00-05:00             1.03     127.00              1.18   \n",
       "1993-12-17 00:00:00-05:00             1.03     128.00              1.18   \n",
       "1993-12-20 00:00:00-05:00             1.03     128.00              1.18   \n",
       "...                                    ...        ...               ...   \n",
       "2024-03-08 00:00:00-05:00             1.15     141.00              1.26   \n",
       "2024-03-11 00:00:00-04:00             1.15     141.00              1.26   \n",
       "2024-03-12 00:00:00-04:00             1.16     141.00              1.27   \n",
       "2024-03-13 00:00:00-04:00             1.15     141.00              1.27   \n",
       "2024-03-14 00:00:00-04:00             1.15     140.00              1.27   \n",
       "\n",
       "                           Trend_1000  \n",
       "Date                                   \n",
       "1993-12-14 00:00:00-05:00      512.00  \n",
       "1993-12-15 00:00:00-05:00      512.00  \n",
       "1993-12-16 00:00:00-05:00      513.00  \n",
       "1993-12-17 00:00:00-05:00      514.00  \n",
       "1993-12-20 00:00:00-05:00      513.00  \n",
       "...                               ...  \n",
       "2024-03-08 00:00:00-05:00      534.00  \n",
       "2024-03-11 00:00:00-04:00      533.00  \n",
       "2024-03-12 00:00:00-04:00      534.00  \n",
       "2024-03-13 00:00:00-04:00      534.00  \n",
       "2024-03-14 00:00:00-04:00      533.00  \n",
       "\n",
       "[7616 rows x 17 columns]"
      ]
     },
     "execution_count": 11,
     "metadata": {},
     "output_type": "execute_result"
    }
   ],
   "source": [
    "sp500=sp500.dropna()\n",
    "sp500"
   ]
  },
  {
   "cell_type": "code",
   "execution_count": 12,
   "id": "8cbdb471-b5c5-4844-be57-31560cc79e33",
   "metadata": {
    "tags": []
   },
   "outputs": [],
   "source": [
    "model = RandomForestClassifier(n_estimators=200, min_samples_split=50, random_state=1)"
   ]
  },
  {
   "cell_type": "code",
   "execution_count": 13,
   "id": "e92dcca7-5a1a-4deb-8552-25495eff8a3e",
   "metadata": {
    "tags": []
   },
   "outputs": [],
   "source": [
    "def predict(train, test, predictors, model):\n",
    "    model.fit(train[predictors], train[\"Target\"])\n",
    "    preds = model.predict_proba(test[predictors])[:,1]\n",
    "    preds[preds >=.6] = 1\n",
    "    preds[preds <.6] = 0\n",
    "    preds = pd.Series(preds, index=test.index, name=\"Predictions\")\n",
    "    combined = pd.concat([test[\"Target\"], preds], axis=1)\n",
    "    return combined"
   ]
  },
  {
   "cell_type": "code",
   "execution_count": 14,
   "id": "83fce476-76b3-4a7d-b0bc-d8107d69e59f",
   "metadata": {
    "tags": []
   },
   "outputs": [],
   "source": [
    "predictions = backtest(sp500, model, new_predictors)"
   ]
  },
  {
   "cell_type": "code",
   "execution_count": 15,
   "id": "2b53e67e-f1d8-4d93-a7e8-7e851a68a036",
   "metadata": {
    "tags": []
   },
   "outputs": [
    {
     "data": {
      "text/plain": [
       "Predictions\n",
       "0.00    4286\n",
       "1.00     830\n",
       "Name: count, dtype: int64"
      ]
     },
     "execution_count": 15,
     "metadata": {},
     "output_type": "execute_result"
    }
   ],
   "source": [
    "predictions[\"Predictions\"].value_counts()"
   ]
  },
  {
   "cell_type": "code",
   "execution_count": 16,
   "id": "6a130f1b-f3d2-4d54-a0d1-f329783d0e82",
   "metadata": {
    "tags": []
   },
   "outputs": [],
   "source": [
    "prec = precision_score(predictions[\"Target\"], predictions[\"Predictions\"])\n",
    "acc = accuracy_score(predictions[\"Target\"], predictions[\"Predictions\"])"
   ]
  },
  {
   "cell_type": "code",
   "execution_count": 17,
   "id": "8c6a8b60-c8ed-4df9-9f4d-78dfb5fa4b12",
   "metadata": {
    "tags": []
   },
   "outputs": [
    {
     "name": "stdout",
     "output_type": "stream",
     "text": [
      "precision:  0.5734939759036145\n",
      "accuracy:  0.4794761532447224\n"
     ]
    }
   ],
   "source": [
    "print('precision: ',prec)\n",
    "print('accuracy: ',acc)"
   ]
  },
  {
   "cell_type": "code",
   "execution_count": 18,
   "id": "fc580ef4-25fc-41ad-a385-6b25af3ff705",
   "metadata": {
    "tags": []
   },
   "outputs": [
    {
     "data": {
      "text/plain": [
       "Target\n",
       "1   0.54\n",
       "0   0.46\n",
       "Name: count, dtype: float64"
      ]
     },
     "execution_count": 18,
     "metadata": {},
     "output_type": "execute_result"
    }
   ],
   "source": [
    "predictions[\"Target\"].value_counts() / predictions.shape[0]"
   ]
  },
  {
   "cell_type": "code",
   "execution_count": 19,
   "id": "299ae592-4840-4128-86c7-fc78023c18af",
   "metadata": {
    "tags": []
   },
   "outputs": [],
   "source": [
    "feature_imp=pd.Series( model.feature_importances_).sort_index(ascending=True)"
   ]
  },
  {
   "cell_type": "code",
   "execution_count": 20,
   "id": "cc98a572-0976-4340-b0c9-34ae0aff4229",
   "metadata": {
    "tags": []
   },
   "outputs": [],
   "source": [
    "new_pred=pd.Series(new_predictors)"
   ]
  },
  {
   "cell_type": "code",
   "execution_count": 21,
   "id": "be4e5eb7-a562-4de2-b024-00a8296985e7",
   "metadata": {
    "tags": []
   },
   "outputs": [
    {
     "name": "stdout",
     "output_type": "stream",
     "text": [
      "                  0    1\n",
      "0     Close_Ratio_2 0.16\n",
      "1           Trend_2 0.01\n",
      "2     Close_Ratio_5 0.15\n",
      "3           Trend_5 0.03\n",
      "4    Close_Ratio_60 0.15\n",
      "5          Trend_60 0.06\n",
      "6   Close_Ratio_250 0.14\n",
      "7         Trend_250 0.08\n",
      "8  Close_Ratio_1000 0.13\n",
      "9        Trend_1000 0.08\n"
     ]
    }
   ],
   "source": [
    "print(pd.concat([new_pred,feature_imp],axis=1))"
   ]
  }
 ],
 "metadata": {
  "kernelspec": {
   "display_name": "Python 3 (ipykernel)",
   "language": "python",
   "name": "python3"
  },
  "language_info": {
   "codemirror_mode": {
    "name": "ipython",
    "version": 3
   },
   "file_extension": ".py",
   "mimetype": "text/x-python",
   "name": "python",
   "nbconvert_exporter": "python",
   "pygments_lexer": "ipython3",
   "version": "3.11.5"
  }
 },
 "nbformat": 4,
 "nbformat_minor": 5
}
