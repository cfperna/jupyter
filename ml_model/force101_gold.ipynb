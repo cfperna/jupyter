{
 "cells": [
  {
   "cell_type": "code",
   "execution_count": 1,
   "id": "ffc627ce-8984-4b9c-a1d7-9b9d128ddde1",
   "metadata": {
    "tags": []
   },
   "outputs": [],
   "source": [
    "import yfinance as yf\n",
    "import pandas as pd\n",
    "from ipywidgets import Output\n",
    "from sklearn.metrics import precision_score, accuracy_score,recall_score,f1_score,roc_auc_score\n",
    "\n",
    "predictors = []"
   ]
  },
  {
   "cell_type": "code",
   "execution_count": 2,
   "id": "c2a287b3-faaa-4f95-823d-e73ed30a8f86",
   "metadata": {},
   "outputs": [],
   "source": [
    "hold_period =5\n",
    "threshold = 0.6"
   ]
  },
  {
   "cell_type": "code",
   "execution_count": 3,
   "id": "f3677237-cad2-4454-8474-e552d1442d17",
   "metadata": {
    "tags": []
   },
   "outputs": [],
   "source": [
    "stocks = ['f','^gspc']\n",
    "data =pd.DataFrame([])\n",
    "pd.options.display.float_format = '{:.4f}'.format\n",
    "# pd.set_option('display.max_rows', None)\n",
    "pd.set_option('display.max_columns', None)\n",
    "first = True\n",
    "predictors =[]\n",
    "               \n",
    "for stock in stocks:\n",
    "    \n",
    "    stk = yf.Ticker(stock)\n",
    "    stock_data = stk.history(period='max') \n",
    "   \n",
    "    \n",
    "    Gap_column = f'{stock}_Gap'\n",
    "    stock_data[Gap_column]=(stock_data['Open']-stock_data['Close'].shift(1))/stock_data['Close']\n",
    "    predictors +=[Gap_column]\n",
    "    \n",
    "    if stock ==\"qqq\":\n",
    "        del (stock_data['Capital Gains'])\n",
    "           \n",
    "    del stock_data[\"Dividends\"]\n",
    "    del stock_data[\"Stock Splits\"] \n",
    "    \n",
    "   \n",
    "    stock_data[\"Tomarrow\"] = stock_data[\"Close\"].shift(-hold_period)\n",
    "    stock_data[\"Target\"] = (stock_data[\"Tomarrow\"]>stock_data[\"Close\"]).astype(int)\n",
    "    stock_data[\"TargetS\"] = (stock_data[\"Tomarrow\"]<stock_data[\"Close\"]).astype(int)\n",
    "    # stock_data[\"TargetS\"] - (stock_data[\"Tomarrow\"]<stock_data[\"Close\"]).astype(int)\n",
    "    \n",
    "    \n",
    " \n",
    "    \n",
    "    horizons = [2,5,60,250,1000]\n",
    "    # predictors = []\n",
    "\n",
    "    for horizon in horizons:\n",
    "        rolling_averages = stock_data.rolling(horizon).mean()\n",
    "        yy =1\n",
    "\n",
    "        ratio_column = f\"{stock}_Close_Avg_{horizon}\"\n",
    "        stock_data[ratio_column] = stock_data[\"Close\"] / rolling_averages[\"Close\"]\n",
    "\n",
    "        trend_column = f\"{stock}_Trend_{horizon}\"\n",
    "        stock_data[trend_column] = stock_data.shift(1).rolling(horizon).sum()[\"Target\"]\n",
    "         \n",
    "        \n",
    "#         v_ratio_col =f\"{stock}_VolAvg_{horizon}\"\n",
    "#         stock_data[v_ratio_col] = stock_data[\"Volume\"]/rolling_averages[\"Volume\"]\n",
    "        \n",
    "        predictors+= [ratio_column,trend_column]\n",
    "        \n",
    "    \n",
    "    if  first:\n",
    "        first = False\n",
    "        target_stock = stock\n",
    "        Entry_pr = stock_data[\"Open\"].shift(-1)\n",
    "        Exit_pr = stock_data[\"Open\"].shift(-(hold_period+1))\n",
    "        Trades = pd.concat([Entry_pr,Exit_pr],ignore_index=False,axis=1)\n",
    "        Trades.columns = ['Entry','Exit']\n",
    "    else:\n",
    "        del stock_data['Close']\n",
    "        del stock_data['Volume']\n",
    "        del stock_data['Target']\n",
    "        del stock_data['TargetS']\n",
    "        del stock_data['Tomarrow']\n",
    "        \n",
    "    del stock_data[\"High\"]\n",
    "    del stock_data[\"Low\"]  \n",
    "    del stock_data[\"Open\"]\n",
    "                   \n",
    "    data = pd.concat([data,stock_data],ignore_index = False,axis=1)\n",
    "    "
   ]
  },
  {
   "cell_type": "code",
   "execution_count": 4,
   "id": "58d1296d-986f-4018-8c01-255c15eda53f",
   "metadata": {},
   "outputs": [],
   "source": [
    "todays_data=data.tail(1).copy()"
   ]
  },
  {
   "cell_type": "code",
   "execution_count": 5,
   "id": "1546cb29-11dc-479a-8a9a-89ffce20e210",
   "metadata": {},
   "outputs": [],
   "source": [
    "data=data.dropna()"
   ]
  },
  {
   "cell_type": "code",
   "execution_count": 6,
   "id": "38ffdc08-2ede-40f3-9443-d6b3d837bcea",
   "metadata": {
    "tags": []
   },
   "outputs": [],
   "source": [
    " stock_data=stock_data.loc[\"1990-1-1\":].copy()"
   ]
  },
  {
   "cell_type": "code",
   "execution_count": 7,
   "id": "8e548148-f9dc-4208-ae9b-4b6f9f77d920",
   "metadata": {
    "tags": []
   },
   "outputs": [],
   "source": [
    "import sklearn\n",
    "from sklearn.ensemble import RandomForestClassifier\n",
    "\n",
    "train = data.iloc[:-100]\n",
    "test = data.iloc[-100:]"
   ]
  },
  {
   "cell_type": "code",
   "execution_count": 8,
   "id": "5e84f077-99ed-4908-b2e6-dbfe127823b3",
   "metadata": {},
   "outputs": [],
   "source": [
    "def backtest(data, model, predictors, long, start=2500, step=250):\n",
    "    all_predictions = []\n",
    "    \n",
    "    for i in range(start, data.shape[0], step):\n",
    "        train = data.iloc[0:i].copy()\n",
    "        test = data.iloc[i:(i+step)].copy()\n",
    "        predictions = predict(train, test, predictors, model,long)\n",
    "        all_predictions.append(predictions)\n",
    "    \n",
    "    return pd.concat(all_predictions)"
   ]
  },
  {
   "cell_type": "code",
   "execution_count": 9,
   "id": "21bbae5d-dac7-48a0-9dbd-a5a96d50ecb7",
   "metadata": {
    "tags": []
   },
   "outputs": [],
   "source": [
    "def predict(train, test, predictors, model,long):\n",
    "    if long:\n",
    "        model.fit(train[predictors], train[\"Target\"])\n",
    "    else:\n",
    "        model.fit(train[predictors], train[\"TargetS\"])\n",
    "        \n",
    "    preds = model.predict_proba(test[predictors])[:,1]\n",
    "     \n",
    "    preds[preds >=threshold] = 1\n",
    "    preds[preds <threshold] = 0\n",
    "    preds = pd.Series(preds, index=test.index, name=\"Predictions\")\n",
    "    if long:\n",
    "        combined = pd.concat([test[\"Target\"], preds], axis=1)\n",
    "    else:\n",
    "        combined = pd.concat([test[\"TargetS\"], preds], axis=1)\n",
    "    return combined"
   ]
  },
  {
   "cell_type": "code",
   "execution_count": 10,
   "id": "fbad09ff-7d0c-42bc-8be1-7a391848866c",
   "metadata": {
    "tags": []
   },
   "outputs": [],
   "source": [
    "model = RandomForestClassifier(n_estimators=200, min_samples_split=50, random_state=1)\n",
    "modelS = RandomForestClassifier(n_estimators=200, min_samples_split=50, random_state=1)\n"
   ]
  },
  {
   "cell_type": "code",
   "execution_count": 11,
   "id": "974568e4-de31-42b5-a0cc-681621026cad",
   "metadata": {},
   "outputs": [],
   "source": [
    "predictions = backtest(data, model, predictors,True)\n",
    "predictionsS = backtest(data, modelS, predictors,False)"
   ]
  },
  {
   "cell_type": "code",
   "execution_count": 12,
   "id": "32857baa-6600-4735-8ab2-22045a35babd",
   "metadata": {
    "tags": []
   },
   "outputs": [],
   "source": [
    "predictionsS = predictionsS.rename(columns={\"Predictions\":\"PredictionsS\"})"
   ]
  },
  {
   "cell_type": "code",
   "execution_count": 13,
   "id": "5bd78e93-e003-4b94-ba1b-1d1d88fc66ab",
   "metadata": {
    "tags": []
   },
   "outputs": [],
   "source": [
    "all_predictions =pd.concat([predictions,predictionsS],ignore_index = False,axis=1)"
   ]
  },
  {
   "cell_type": "code",
   "execution_count": 14,
   "id": "e5766532-f306-451e-88f2-2f7035fa7b05",
   "metadata": {
    "tags": []
   },
   "outputs": [],
   "source": [
    "Trades2= pd.concat([all_predictions,Trades],ignore_index=False,axis=1)"
   ]
  },
  {
   "cell_type": "code",
   "execution_count": 15,
   "id": "f7df0ceb-cc0f-4c79-8ea7-0151b5ca3947",
   "metadata": {
    "tags": []
   },
   "outputs": [],
   "source": [
    "recall=recall_score(predictions[\"Target\"], predictions[\"Predictions\"])\n",
    "prec = precision_score(predictions[\"Target\"], predictions[\"Predictions\"])\n",
    "acc = accuracy_score(predictions[\"Target\"], predictions[\"Predictions\"])\n",
    "f1 = f1_score(predictions[\"Target\"], predictions[\"Predictions\"])"
   ]
  },
  {
   "cell_type": "code",
   "execution_count": 16,
   "id": "12d8f9fa-2f74-438c-b4d2-80ea41b92dc6",
   "metadata": {
    "tags": []
   },
   "outputs": [],
   "source": [
    "recallS=recall_score(predictionsS[\"TargetS\"], predictionsS[\"PredictionsS\"])\n",
    "precS = precision_score(predictionsS[\"TargetS\"], predictionsS[\"PredictionsS\"])\n",
    "accS = accuracy_score(predictionsS[\"TargetS\"], predictionsS[\"PredictionsS\"])\n",
    "f1S = f1_score(predictionsS[\"TargetS\"], predictionsS[\"PredictionsS\"])"
   ]
  },
  {
   "cell_type": "code",
   "execution_count": 17,
   "id": "a6996817-347f-40f9-b86b-25ac9961096d",
   "metadata": {
    "tags": []
   },
   "outputs": [],
   "source": [
    "feature_imp=pd.Series( model.feature_importances_).sort_index(ascending=True)\n",
    "feature_impS=pd.Series( modelS.feature_importances_).sort_index(ascending=True)\n"
   ]
  },
  {
   "cell_type": "code",
   "execution_count": 18,
   "id": "4df17f31-2a73-4ade-8094-98d384c3a2fc",
   "metadata": {
    "tags": []
   },
   "outputs": [],
   "source": [
    "pred=pd.Series(predictors)"
   ]
  },
  {
   "cell_type": "code",
   "execution_count": 19,
   "id": "0e6cc12b-fe57-4974-aaea-1f9133b8dc32",
   "metadata": {},
   "outputs": [],
   "source": [
    "predictors2=todays_data"
   ]
  },
  {
   "cell_type": "code",
   "execution_count": 20,
   "id": "31d089a2-a4cb-4660-9986-62f8b339c8f8",
   "metadata": {
    "tags": []
   },
   "outputs": [],
   "source": [
    "del predictors2[\"Close\"]\n",
    "del predictors2[\"Volume\"]\n",
    "del predictors2[\"Tomarrow\"]\n",
    "del predictors2[\"Target\"]\n",
    "del predictors2[\"TargetS\"]"
   ]
  },
  {
   "cell_type": "code",
   "execution_count": 21,
   "id": "44e0b306-eaeb-4221-808b-ac10670bcb1a",
   "metadata": {
    "tags": []
   },
   "outputs": [],
   "source": [
    "# res = model.predict(predictors2)"
   ]
  },
  {
   "cell_type": "code",
   "execution_count": 22,
   "id": "c1d7fb45-1454-4ef0-9839-dc4cfbc11ca8",
   "metadata": {
    "tags": []
   },
   "outputs": [],
   "source": [
    "# print(pd.concat([pred,feature_imp],axis=1))"
   ]
  },
  {
   "cell_type": "code",
   "execution_count": 23,
   "id": "d1e42ec9-076b-4e51-b790-afd9a61be589",
   "metadata": {},
   "outputs": [],
   "source": [
    "# print(pd.concat([pred,feature_impS],axis=1))"
   ]
  },
  {
   "cell_type": "code",
   "execution_count": 24,
   "id": "f501843a-6acb-4a8f-b5a6-6b285659697d",
   "metadata": {
    "tags": []
   },
   "outputs": [
    {
     "data": {
      "text/plain": [
       "Predictions\n",
       "0.0000    138\n",
       "1.0000    112\n",
       "Name: count, dtype: int64"
      ]
     },
     "execution_count": 24,
     "metadata": {},
     "output_type": "execute_result"
    }
   ],
   "source": [
    "predictions[\"Predictions\"].tail(250).value_counts()"
   ]
  },
  {
   "cell_type": "code",
   "execution_count": null,
   "id": "cc006e55-a05f-4da7-9541-492a8c49b173",
   "metadata": {
    "tags": []
   },
   "outputs": [],
   "source": []
  },
  {
   "cell_type": "code",
   "execution_count": 25,
   "id": "4575da79-c80b-4089-9007-e78963d6b9bd",
   "metadata": {
    "tags": []
   },
   "outputs": [
    {
     "data": {
      "text/plain": [
       "PredictionsS\n",
       "0.0000    140\n",
       "1.0000    110\n",
       "Name: count, dtype: int64"
      ]
     },
     "execution_count": 25,
     "metadata": {},
     "output_type": "execute_result"
    }
   ],
   "source": [
    "predictionsS[\"PredictionsS\"].tail(250).value_counts()"
   ]
  },
  {
   "cell_type": "code",
   "execution_count": 26,
   "id": "eabf4fe1-0700-479e-85ce-a1a18aaffaa0",
   "metadata": {
    "tags": []
   },
   "outputs": [
    {
     "name": "stdout",
     "output_type": "stream",
     "text": [
      "baseline:  Target\n",
      "0.0000   0.5040\n",
      "1.0000   0.4960\n",
      "Name: count, dtype: float64\n"
     ]
    }
   ],
   "source": [
    "print(\"baseline: \", predictions[\"Target\"].tail(250).value_counts() / predictions.tail(250).shape[0])"
   ]
  },
  {
   "cell_type": "code",
   "execution_count": 27,
   "id": "d9d8c181-2fb0-4032-8ea7-00d53a42de7c",
   "metadata": {
    "tags": []
   },
   "outputs": [
    {
     "name": "stdout",
     "output_type": "stream",
     "text": [
      "baselineS:  TargetS\n",
      "0.0000   0.5040\n",
      "1.0000   0.4960\n",
      "Name: count, dtype: float64\n"
     ]
    }
   ],
   "source": [
    "print(\"baselineS: \", predictionsS[\"TargetS\"].tail(250).value_counts() / predictionsS.tail(250).shape[0])"
   ]
  },
  {
   "cell_type": "code",
   "execution_count": 28,
   "id": "f8d428e3-d714-40d4-87a1-daefa522ebad",
   "metadata": {
    "tags": []
   },
   "outputs": [],
   "source": [
    "res = model.predict(predictors2)\n",
    "resS = modelS.predict(predictors2)"
   ]
  },
  {
   "cell_type": "code",
   "execution_count": 29,
   "id": "47fa591a-7a1a-447a-b861-5b32b9e54b7c",
   "metadata": {
    "tags": []
   },
   "outputs": [
    {
     "name": "stdout",
     "output_type": "stream",
     "text": [
      "accuracy:   0.7777   (TP + TN)/(TP + TN + FP +FN)\n",
      "recall:     0.7046   TP/(TP+FN)\n",
      "precision:  0.8282   TP/(TP + FP)\n",
      "f1:         0.7614   (precision * recall)/(precision + recall\n"
     ]
    }
   ],
   "source": [
    "print('accuracy:  ',format(acc,'.4f'),'  (TP + TN)/(TP + TN + FP +FN)' )\n",
    "print('recall:    ',format(recall,'.4f'),'  TP/(TP+FN)')\n",
    "print('precision: ',format(prec,'.4f'),'  TP/(TP + FP)')\n",
    "print('f1:        ',format(f1,'.4f'),'  (precision * recall)/(precision + recall')"
   ]
  },
  {
   "cell_type": "code",
   "execution_count": 30,
   "id": "2f711027-b713-4b56-b767-25306f3746e8",
   "metadata": {
    "tags": []
   },
   "outputs": [
    {
     "name": "stdout",
     "output_type": "stream",
     "text": [
      "accuracyS:   0.7659  (TP + TN)/(TP + TN + FP +FN)\n",
      "recallS:     0.6465  TP/(TP+FN)\n",
      "precisionS:  0.8282  TP/(TP + FP)\n",
      "f1S:         0.7262  (precision * recall)/(precision + recall\n"
     ]
    }
   ],
   "source": [
    "print('accuracyS:  ',format(accS,'.4f'),' (TP + TN)/(TP + TN + FP +FN)' )\n",
    "print('recallS:    ',format(recallS,'.4f'),' TP/(TP+FN)')\n",
    "print('precisionS: ',format(prec,'.4f'),' TP/(TP + FP)')\n",
    "print('f1S:        ',format(f1S,'.4f'),' (precision * recall)/(precision + recall')"
   ]
  },
  {
   "cell_type": "code",
   "execution_count": 31,
   "id": "57691d77-c499-415d-b702-a6aea564e3c1",
   "metadata": {
    "tags": []
   },
   "outputs": [],
   "source": [
    "# def current_price(instrument):\n",
    "    \n",
    "    # return format(data[\"Close\"].iloc[-1],'.3f')\n",
    "    # return data\n",
    "    \n",
    "# print(target_stock,\": \", current_price(target_stock))"
   ]
  },
  {
   "cell_type": "code",
   "execution_count": 59,
   "id": "27c16a15-6b96-4dee-94dd-370fa0ef0ecd",
   "metadata": {},
   "outputs": [
    {
     "name": "stdout",
     "output_type": "stream",
     "text": [
      "stand down going Long\n"
     ]
    }
   ],
   "source": [
    "if res:\n",
    "    print('trade Long')\n",
    "   \n",
    "else:\n",
    "    print('stand down going Long')\n",
    "        "
   ]
  },
  {
   "cell_type": "code",
   "execution_count": 58,
   "id": "e9531443-0ca3-4e78-9284-79dc35bdceba",
   "metadata": {},
   "outputs": [
    {
     "name": "stdout",
     "output_type": "stream",
     "text": [
      "trade Short\n"
     ]
    }
   ],
   "source": [
    "if resS:   \n",
    "    print('trade Short')    \n",
    "else:\n",
    "    print('stand down Shorting')\n",
    "        "
   ]
  },
  {
   "cell_type": "code",
   "execution_count": 34,
   "id": "5a8601df-900e-4984-a9fc-5f3f81093bc9",
   "metadata": {
    "tags": []
   },
   "outputs": [],
   "source": [
    "Trades2 = Trades2.dropna()"
   ]
  },
  {
   "cell_type": "code",
   "execution_count": 35,
   "id": "b746828e-5814-440f-8c61-520597a9d892",
   "metadata": {
    "tags": []
   },
   "outputs": [],
   "source": [
    "Trades2['Longs']=(Trades2['Predictions']*(Trades2['Exit']-Trades2['Entry']))/Trades2['Entry']/hold_period\n",
    "\n",
    "Trades2['Shorts']= (Trades2['PredictionsS']*(Trades2['Entry']-Trades2['Exit']))/Trades2['Entry']/hold_period\n"
   ]
  },
  {
   "cell_type": "code",
   "execution_count": 36,
   "id": "8b30dcba-031a-4de4-9b3a-7bcda17d4471",
   "metadata": {
    "tags": []
   },
   "outputs": [],
   "source": [
    "Trade_3 = Trades2.tail(250).copy()"
   ]
  },
  {
   "cell_type": "code",
   "execution_count": 37,
   "id": "7e1103fb-8138-4a28-9fb6-5612fac5b885",
   "metadata": {
    "tags": []
   },
   "outputs": [],
   "source": [
    "Trade_3['Longs_cum']=Trade_3['Longs'].cumsum()\n",
    "Trade_3['Short_cum']=Trade_3['Shorts'].cumsum()\n",
    "Trade_3['Total_cum'] = Trade_3['Longs_cum']+Trade_3['Short_cum']"
   ]
  },
  {
   "cell_type": "code",
   "execution_count": 38,
   "id": "b05f7678-9054-4303-9282-356f2324e71d",
   "metadata": {
    "tags": []
   },
   "outputs": [],
   "source": [
    "avg_share_price = Trade_3['Entry'].sum()/250"
   ]
  },
  {
   "cell_type": "code",
   "execution_count": 39,
   "id": "1b7cc73c-c344-4963-b4e4-ba35a6e01d9b",
   "metadata": {
    "tags": []
   },
   "outputs": [],
   "source": [
    "long_total_profit = Trade_3['Longs_cum'].tail(1).copy()\n",
    "short_total_profit= Trade_3['Short_cum'].tail(1).copy()"
   ]
  },
  {
   "cell_type": "code",
   "execution_count": 40,
   "id": "29a594f7-b6c2-45c0-89cf-a2cc67f23353",
   "metadata": {
    "tags": []
   },
   "outputs": [
    {
     "data": {
      "text/plain": [
       "Date\n",
       "2024-03-07 00:00:00-05:00   0.7225\n",
       "Name: Longs_cum, dtype: float64"
      ]
     },
     "execution_count": 40,
     "metadata": {},
     "output_type": "execute_result"
    }
   ],
   "source": [
    "long_total_profit"
   ]
  },
  {
   "cell_type": "code",
   "execution_count": 41,
   "id": "74a7cbfe-c092-4593-ae3d-ea19202e554c",
   "metadata": {
    "tags": []
   },
   "outputs": [
    {
     "data": {
      "text/plain": [
       "Date\n",
       "2024-03-07 00:00:00-05:00   0.5755\n",
       "Name: Short_cum, dtype: float64"
      ]
     },
     "execution_count": 41,
     "metadata": {},
     "output_type": "execute_result"
    }
   ],
   "source": [
    "short_total_profit"
   ]
  },
  {
   "cell_type": "code",
   "execution_count": 42,
   "id": "f59e3990-5cb7-41a7-9ea7-dfc78b8ed01e",
   "metadata": {
    "tags": []
   },
   "outputs": [],
   "source": [
    "LongAPR = long_total_profit\n",
    "ShortAPR = short_total_profit\n",
    "TotalAPR=  LongAPR + ShortAPR"
   ]
  },
  {
   "cell_type": "code",
   "execution_count": 43,
   "id": "f94b6cd0-f4ca-4223-aeb9-81ab1d915f96",
   "metadata": {
    "tags": []
   },
   "outputs": [],
   "source": [
    "returns = pd.concat([LongAPR,ShortAPR,TotalAPR],ignore_index=False,axis=1)"
   ]
  },
  {
   "cell_type": "code",
   "execution_count": 44,
   "id": "3cb2db3a-2fb8-44de-b475-e94167bd40ea",
   "metadata": {
    "tags": []
   },
   "outputs": [
    {
     "data": {
      "text/plain": [
       "<Axes: xlabel='Date'>"
      ]
     },
     "execution_count": 44,
     "metadata": {},
     "output_type": "execute_result"
    },
    {
     "data": {
      "image/png": "[encoded data removed]",
      "text/plain": [
       "<Figure size 640x480 with 1 Axes>"
      ]
     },
     "metadata": {},
     "output_type": "display_data"
    }
   ],
   "source": [
    "Trade_3.plot.line(y=['Total_cum','Short_cum','Longs_cum'],use_index=True)\n"
   ]
  },
  {
   "cell_type": "code",
   "execution_count": 45,
   "id": "4c036332-acec-4a8b-9128-85be383193ae",
   "metadata": {
    "tags": []
   },
   "outputs": [
    {
     "data": {
      "text/plain": [
       "<Axes: xlabel='Date'>"
      ]
     },
     "execution_count": 45,
     "metadata": {},
     "output_type": "execute_result"
    },
    {
     "data": {
      "image/png": "[encoded data removed]",
      "text/plain": [
       "<Figure size 640x480 with 1 Axes>"
      ]
     },
     "metadata": {},
     "output_type": "display_data"
    }
   ],
   "source": [
    "Trade_3.plot.line(y=\"Entry\",use_index = True)"
   ]
  },
  {
   "cell_type": "markdown",
   "id": "710d0c61-505e-4b07-b703-f5eed972d363",
   "metadata": {},
   "source": [
    "### Random Test"
   ]
  },
  {
   "cell_type": "code",
   "execution_count": 60,
   "id": "23d4ec7d-c2a7-44e4-9506-878dc3319c4a",
   "metadata": {
    "tags": []
   },
   "outputs": [],
   "source": [
    "import numpy as np\n",
    "\n",
    "start_r = (np.random.randint(500, 2500))"
   ]
  },
  {
   "cell_type": "code",
   "execution_count": 61,
   "id": "445ad057-6db9-4423-8bd3-085e18569947",
   "metadata": {
    "tags": []
   },
   "outputs": [],
   "source": [
    "test_r = data.iloc[-start_r:(-start_r+250)].copy()"
   ]
  },
  {
   "cell_type": "code",
   "execution_count": 62,
   "id": "1d554cd1-1ded-4ea1-8aac-3b56a90e4900",
   "metadata": {
    "tags": []
   },
   "outputs": [
    {
     "data": {
      "text/plain": [
       "1194"
      ]
     },
     "execution_count": 62,
     "metadata": {},
     "output_type": "execute_result"
    }
   ],
   "source": [
    "start_r"
   ]
  },
  {
   "cell_type": "code",
   "execution_count": 63,
   "id": "5d1f694c-749a-48d2-a533-12afc5b2d4a2",
   "metadata": {
    "tags": []
   },
   "outputs": [],
   "source": [
    " preds_r = model.predict_proba(test_r[predictors])[:,1]\n",
    "     \n",
    "preds_r[preds_r >=threshold] = 1\n",
    "preds_r[preds_r <threshold] = 0\n",
    "preds_r = pd.Series(preds_r, index=test_r.index, name=\"Predictions\")\n",
    "combined_r = pd.concat([test_r[\"Target\"], preds_r], axis=1)\n",
    "    "
   ]
  },
  {
   "cell_type": "code",
   "execution_count": 64,
   "id": "e1f236c0-87cf-4c6f-9d47-ac891b835357",
   "metadata": {
    "tags": []
   },
   "outputs": [],
   "source": [
    "predsS_r = modelS.predict_proba(test_r[predictors])[:,1]\n",
    "     \n",
    "predsS_r[predsS_r >=threshold] = 1\n",
    "predsS_r[predsS_r <threshold] = 0\n",
    "predsS_r = pd.Series(predsS_r, index=test_r.index, name=\"Predictions\")\n",
    "combinedS_r = pd.concat([test_r[\"TargetS\"], predsS_r], axis=1)\n",
    "combinedS_r = combinedS_r.rename(columns={\"Predictions\":\"PredictionsS\"})"
   ]
  },
  {
   "cell_type": "code",
   "execution_count": 65,
   "id": "456abab7-54f2-4a4f-ad99-0b2fac717f71",
   "metadata": {
    "tags": []
   },
   "outputs": [],
   "source": [
    "all_predictions_r =pd.concat([combined_r,combinedS_r],ignore_index = False,axis=1)\n"
   ]
  },
  {
   "cell_type": "code",
   "execution_count": 66,
   "id": "f4391859-fab3-4f10-80fe-4749c5689fa6",
   "metadata": {
    "tags": []
   },
   "outputs": [],
   "source": [
    "Trades2_r= pd.concat([all_predictions_r,Trades],ignore_index=False,axis=1)"
   ]
  },
  {
   "cell_type": "code",
   "execution_count": 67,
   "id": "1ea8c9e3-6e55-45b0-b8bc-42223254d2d6",
   "metadata": {
    "tags": []
   },
   "outputs": [],
   "source": [
    "Trades2_r =Trades2_r.dropna()"
   ]
  },
  {
   "cell_type": "code",
   "execution_count": 68,
   "id": "b6a43b56-cec8-471b-9c97-79f717cfaee5",
   "metadata": {
    "tags": []
   },
   "outputs": [],
   "source": [
    "Trades2_r['Longs']=(Trades2_r['Predictions']*(Trades2_r['Exit']-Trades2_r['Entry']))/Trades2_r['Entry']/hold_period\n",
    "\n",
    "Trades2_r['Shorts']= (Trades2_r['PredictionsS']*(Trades2_r['Entry']-Trades2_r['Exit']))/Trades2_r['Entry']/hold_period\n"
   ]
  },
  {
   "cell_type": "code",
   "execution_count": 69,
   "id": "eb05e92d-dc14-487b-bfef-434d50d18d87",
   "metadata": {
    "tags": []
   },
   "outputs": [],
   "source": [
    "Trades2_r['Longs_cum']=Trades2_r['Longs'].cumsum()\n",
    "Trades2_r['Short_cum']=Trades2_r['Shorts'].cumsum()\n",
    "Trades2_r['Total_cum'] = Trades2_r['Longs_cum']+Trades2_r['Short_cum']"
   ]
  },
  {
   "cell_type": "code",
   "execution_count": 70,
   "id": "2e00b9bf-c453-487f-9907-7ec3c6503526",
   "metadata": {
    "tags": []
   },
   "outputs": [
    {
     "data": {
      "text/plain": [
       "<Axes: xlabel='Date'>"
      ]
     },
     "execution_count": 70,
     "metadata": {},
     "output_type": "execute_result"
    },
    {
     "data": {
      "image/png": "[encoded data removed]",
      "text/plain": [
       "<Figure size 640x480 with 1 Axes>"
      ]
     },
     "metadata": {},
     "output_type": "display_data"
    }
   ],
   "source": [
    "Trades2_r.plot.line(y=['Total_cum','Short_cum','Longs_cum'],use_index=True)\n"
   ]
  },
  {
   "cell_type": "code",
   "execution_count": 71,
   "id": "0a8d9299-1469-46ba-a71a-865a5fce18b7",
   "metadata": {},
   "outputs": [
    {
     "data": {
      "text/plain": [
       "<Axes: xlabel='Date'>"
      ]
     },
     "execution_count": 71,
     "metadata": {},
     "output_type": "execute_result"
    },
    {
     "data": {
      "image/png": "[encoded data removed]",
      "text/plain": [
       "<Figure size 640x480 with 1 Axes>"
      ]
     },
     "metadata": {},
     "output_type": "display_data"
    }
   ],
   "source": [
    "Trades2_r.plot.line(y=\"Entry\",use_index = True)"
   ]
  },
  {
   "cell_type": "code",
   "execution_count": null,
   "id": "bbbf8c0a-3e9e-4fd0-a825-7ec757b6b6aa",
   "metadata": {},
   "outputs": [],
   "source": []
  }
 ],
 "metadata": {
  "kernelspec": {
   "display_name": "Python 3 (ipykernel)",
   "language": "python",
   "name": "python3"
  },
  "language_info": {
   "codemirror_mode": {
    "name": "ipython",
    "version": 3
   },
   "file_extension": ".py",
   "mimetype": "text/x-python",
   "name": "python",
   "nbconvert_exporter": "python",
   "pygments_lexer": "ipython3",
   "version": "3.11.5"
  }
 },
 "nbformat": 4,
 "nbformat_minor": 5
}
