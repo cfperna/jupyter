{
 "cells": [
  {
   "cell_type": "code",
   "execution_count": 1,
   "id": "765917c9-378a-4a75-addf-001609609821",
   "metadata": {
    "tags": []
   },
   "outputs": [],
   "source": [
    "import yfinance as yf\n",
    "import pandas as pd\n"
   ]
  },
  {
   "cell_type": "code",
   "execution_count": 3,
   "id": "0b8ca357-c8b2-4150-a332-db330f7a3eac",
   "metadata": {
    "tags": []
   },
   "outputs": [],
   "source": [
    "close =yf.Ticker('avgo')"
   ]
  },
  {
   "cell_type": "code",
   "execution_count": 4,
   "id": "9ff7d1c4-d391-4eb1-a756-246e50cfe921",
   "metadata": {
    "tags": []
   },
   "outputs": [
    {
     "name": "stdout",
     "output_type": "stream",
     "text": [
      "yfinance.Ticker object <AVGO>\n"
     ]
    }
   ],
   "source": [
    "print(close)"
   ]
  },
  {
   "cell_type": "code",
   "execution_count": null,
   "id": "901c621f-f595-4519-a06c-2687aafe5e0c",
   "metadata": {},
   "outputs": [],
   "source": []
  }
 ],
 "metadata": {
  "kernelspec": {
   "display_name": "Python 3 (ipykernel)",
   "language": "python",
   "name": "python3"
  },
  "language_info": {
   "codemirror_mode": {
    "name": "ipython",
    "version": 3
   },
   "file_extension": ".py",
   "mimetype": "text/x-python",
   "name": "python",
   "nbconvert_exporter": "python",
   "pygments_lexer": "ipython3",
   "version": "3.11.5"
  }
 },
 "nbformat": 4,
 "nbformat_minor": 5
}
