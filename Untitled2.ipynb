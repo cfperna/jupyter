{
 "cells": [
  {
   "cell_type": "code",
   "execution_count": 9,
   "id": "fe8485c6-499e-4e6e-9eb7-37a5962bd4fa",
   "metadata": {
    "tags": []
   },
   "outputs": [
    {
     "name": "stdout",
     "output_type": "stream",
     "text": [
      "875.02001953125\n"
     ]
    }
   ],
   "source": [
    "import yfinance as yf\n",
    "\n",
    "def current_price(instrument):\n",
    "    data = yf.Ticker(instrument).history(period=\"10m\", interval=\"1m\")\n",
    "    return data[\"Close\"].iloc[-1]\n",
    "    \n",
    "\n",
    "print(current_price(\"nvda\"))"
   ]
  },
  {
   "cell_type": "code",
   "execution_count": 20,
   "id": "2c8f3619-3444-47af-9967-e2fac03cbe45",
   "metadata": {
    "tags": []
   },
   "outputs": [
    {
     "name": "stdout",
     "output_type": "stream",
     "text": [
      "The current date is not a weekday.\n"
     ]
    }
   ],
   "source": [
    "import datetime\n",
    "\n",
    "# Get the current date and time\n",
    "now = datetime.datetime.now()\n",
    "\n",
    "# Check if the current date is a weekday\n",
    "if now.weekday() < 5:\n",
    "  # Check if the current time is earlier than 1:30 pm\n",
    "  if now.hour < 13 or (now.hour == 13 and now.minute < 30):\n",
    "    print(\"The current date is a weekday and the time is earlier than 1:30 pm.\")\n",
    "  else:\n",
    "    print(\"The current date is a weekday but the time is not earlier than 1:30 pm.\")\n",
    "else:\n",
    "  print(\"The current date is not a weekday.\")"
   ]
  },
  {
   "cell_type": "code",
   "execution_count": null,
   "id": "5edf8d47-e783-4ccf-95dd-15a26fe7ef54",
   "metadata": {},
   "outputs": [],
   "source": []
  }
 ],
 "metadata": {
  "kernelspec": {
   "display_name": "Python 3 (ipykernel)",
   "language": "python",
   "name": "python3"
  },
  "language_info": {
   "codemirror_mode": {
    "name": "ipython",
    "version": 3
   },
   "file_extension": ".py",
   "mimetype": "text/x-python",
   "name": "python",
   "nbconvert_exporter": "python",
   "pygments_lexer": "ipython3",
   "version": "3.11.5"
  }
 },
 "nbformat": 4,
 "nbformat_minor": 5
}
